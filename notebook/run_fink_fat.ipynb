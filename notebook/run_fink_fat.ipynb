{
 "cells": [
  {
   "cell_type": "code",
   "execution_count": 1,
   "metadata": {},
   "outputs": [],
   "source": [
    "# Import\n",
    "\n",
    "import os\n",
    "import json\n",
    "import pandas as pd\n",
    "import numpy as np\n",
    "import matplotlib.pyplot as plt\n",
    "import requests\n",
    "from io import BytesIO\n",
    "from astropy.io.votable import parse_single_table\n",
    "from collections import Counter\n",
    "import glob\n",
    "from multiprocessing import Pool\n",
    "\n",
    "import rocks\n",
    "from astropy.coordinates import SkyCoord\n",
    "import astropy.units as u\n",
    "from scipy.spatial import distance\n",
    "from sbpy.data import Orbit, Ephem\n",
    "from astropy.time import Time"
   ]
  },
  {
   "cell_type": "code",
   "execution_count": null,
   "metadata": {},
   "outputs": [],
   "source": []
  }
 ],
 "metadata": {
  "kernelspec": {
   "display_name": "base",
   "language": "python",
   "name": "python3"
  },
  "language_info": {
   "codemirror_mode": {
    "name": "ipython",
    "version": 3
   },
   "file_extension": ".py",
   "mimetype": "text/x-python",
   "name": "python",
   "nbconvert_exporter": "python",
   "pygments_lexer": "ipython3",
   "version": "3.9.7"
  },
  "orig_nbformat": 4,
  "vscode": {
   "interpreter": {
    "hash": "571d7e2b472b2ad2fe7fa12de89057082d5c525dba7df0550d26c3e2b085b7b8"
   }
  }
 },
 "nbformat": 4,
 "nbformat_minor": 2
}
