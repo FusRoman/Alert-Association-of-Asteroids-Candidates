{
 "cells": [
  {
   "cell_type": "code",
   "execution_count": 3,
   "metadata": {},
   "outputs": [],
   "source": [
    "# Import\n",
    "\n",
    "import os\n",
    "import json\n",
    "import pandas as pd\n",
    "import numpy as np\n",
    "import matplotlib.pyplot as plt\n",
    "import requests\n",
    "from io import BytesIO\n",
    "from astropy.io.votable import parse_single_table\n",
    "from collections import Counter\n",
    "import glob\n",
    "from multiprocessing import Pool\n",
    "\n",
    "from astropy.coordinates import SkyCoord\n",
    "import astropy.units as u\n",
    "from scipy.spatial import distance\n",
    "from astropy.time import Time"
   ]
  },
  {
   "attachments": {},
   "cell_type": "markdown",
   "metadata": {},
   "source": [
    "# Calling Fink-FAT with the confirmed SSO\n",
    "\n",
    "* offline mode between 2020-09-01 and 2020-10-01\n",
    "* solve the orbit in cluster mode\n",
    "* config file in LSST mode (restricted parameters)\n",
    "\n",
    "Warning: can take a long time (> 2 hours)"
   ]
  },
  {
   "cell_type": "code",
   "execution_count": null,
   "metadata": {},
   "outputs": [],
   "source": [
    "!fink_fat offline mpc cluster 2020-10-01 2020-09-01 --save --verbose --config custom.conf"
   ]
  },
  {
   "attachments": {},
   "cell_type": "markdown",
   "metadata": {},
   "source": [
    "# Calling Fink-FAT with the confirmed SSO in MOPS behavior\n",
    "\n",
    "* offline mode between 2020-09-01 and 2020-10-01\n",
    "* solve the orbit in cluster mode\n",
    "* config file in LSST mode (restricted parameters)\n",
    "* MOPS behavior (keep only the tracklets associations, disable alerts associations, old alerts associations and pairs of alerts). \n",
    "\n",
    "Warning: can take a long time (> 2 hours)"
   ]
  },
  {
   "cell_type": "code",
   "execution_count": null,
   "metadata": {},
   "outputs": [],
   "source": [
    "!fink_fat offline mpc cluster 2020-10-01 2020-09-01 --save --verbose --config custom_mops.conf"
   ]
  }
 ],
 "metadata": {
  "kernelspec": {
   "display_name": "fink_fat_env",
   "language": "python",
   "name": "python3"
  },
  "language_info": {
   "codemirror_mode": {
    "name": "ipython",
    "version": 3
   },
   "file_extension": ".py",
   "mimetype": "text/x-python",
   "name": "python",
   "nbconvert_exporter": "python",
   "pygments_lexer": "ipython3",
   "version": "3.7.15 (default, Nov 24 2022, 21:12:53) \n[GCC 11.2.0]"
  },
  "orig_nbformat": 4,
  "vscode": {
   "interpreter": {
    "hash": "0b4d7a8d942b2cdfc5ed29817af4d25b00e34244c5553381fedb8ca3009fb4cf"
   }
  }
 },
 "nbformat": 4,
 "nbformat_minor": 2
}
