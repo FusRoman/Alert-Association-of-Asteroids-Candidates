{
 "cells": [
  {
   "cell_type": "code",
   "execution_count": 1,
   "metadata": {},
   "outputs": [],
   "source": [
    "from astropy.coordinates import SkyCoord\n",
    "from astropy.time import Time\n",
    "from sbpy.data import Ephem\n",
    "import pandas as pd\n",
    "import numpy as np\n",
    "\n",
    "import matplotlib.pyplot as plt\n",
    "import seaborn\n",
    "seaborn.set_context('poster')"
   ]
  },
  {
   "cell_type": "code",
   "execution_count": 2,
   "metadata": {},
   "outputs": [],
   "source": [
    "traj = pd.read_parquet(\"~/fink_fat_out/candidates_15_2_2/trajectory_orb.parquet\")\n",
    "orb = pd.read_parquet(\"~/fink_fat_out/candidates_15_2_2/orbital.parquet\")"
   ]
  },
  {
   "cell_type": "code",
   "execution_count": 3,
   "metadata": {},
   "outputs": [],
   "source": [
    "id_follow_up = np.array(\n",
    "    [\n",
    "        'FF2023aaaaalx', # FF2022aaaaawi, 57262\n",
    "        'FF2023aaaaama', # FF2022aaaaawm, 57392\n",
    "        'FF2023aaaaamb', # FF2022aaaaawn, 57417\n",
    "        'FF2023aaaaamc', # FF2022aaaaawo, 57529\n",
    "        'FF2023aaaaamd', # FF2022aaaaawp, 57438\n",
    "    ], \n",
    ")"
   ]
  },
  {
   "cell_type": "code",
   "execution_count": 4,
   "metadata": {},
   "outputs": [
    {
     "data": {
      "text/html": [
       "<div>\n",
       "<style scoped>\n",
       "    .dataframe tbody tr th:only-of-type {\n",
       "        vertical-align: middle;\n",
       "    }\n",
       "\n",
       "    .dataframe tbody tr th {\n",
       "        vertical-align: top;\n",
       "    }\n",
       "\n",
       "    .dataframe thead th {\n",
       "        text-align: right;\n",
       "    }\n",
       "</style>\n",
       "<table border=\"1\" class=\"dataframe\">\n",
       "  <thead>\n",
       "    <tr style=\"text-align: right;\">\n",
       "      <th></th>\n",
       "      <th>ref_epoch</th>\n",
       "      <th>a</th>\n",
       "      <th>e</th>\n",
       "      <th>i</th>\n",
       "      <th>long. node</th>\n",
       "      <th>arg. peric</th>\n",
       "      <th>mean anomaly</th>\n",
       "      <th>rms_a</th>\n",
       "      <th>rms_e</th>\n",
       "      <th>rms_i</th>\n",
       "      <th>rms_long. node</th>\n",
       "      <th>rms_arg. peric</th>\n",
       "      <th>rms_mean anomaly</th>\n",
       "      <th>chi_reduced</th>\n",
       "      <th>ssoCandId</th>\n",
       "    </tr>\n",
       "  </thead>\n",
       "  <tbody>\n",
       "    <tr>\n",
       "      <th>0</th>\n",
       "      <td>2.459814e+06</td>\n",
       "      <td>50.430875</td>\n",
       "      <td>0.926643</td>\n",
       "      <td>2.796635</td>\n",
       "      <td>137.321276</td>\n",
       "      <td>168.058791</td>\n",
       "      <td>0.926061</td>\n",
       "      <td>-1.000000</td>\n",
       "      <td>-1.000000</td>\n",
       "      <td>-1.000000</td>\n",
       "      <td>-1.00000</td>\n",
       "      <td>-1.00000</td>\n",
       "      <td>-1.0000</td>\n",
       "      <td>-1.000000</td>\n",
       "      <td>FF2023aaaaalx</td>\n",
       "    </tr>\n",
       "    <tr>\n",
       "      <th>0</th>\n",
       "      <td>2.459820e+06</td>\n",
       "      <td>8.085766</td>\n",
       "      <td>0.404250</td>\n",
       "      <td>4.198385</td>\n",
       "      <td>161.458208</td>\n",
       "      <td>216.409921</td>\n",
       "      <td>352.731526</td>\n",
       "      <td>0.830293</td>\n",
       "      <td>0.228862</td>\n",
       "      <td>0.612313</td>\n",
       "      <td>2.75339</td>\n",
       "      <td>313.97800</td>\n",
       "      <td>121.8200</td>\n",
       "      <td>0.221667</td>\n",
       "      <td>FF2023aaaaama</td>\n",
       "    </tr>\n",
       "    <tr>\n",
       "      <th>2</th>\n",
       "      <td>2.459820e+06</td>\n",
       "      <td>6.657587</td>\n",
       "      <td>0.337133</td>\n",
       "      <td>2.500486</td>\n",
       "      <td>130.961333</td>\n",
       "      <td>233.292874</td>\n",
       "      <td>358.370126</td>\n",
       "      <td>9.591750</td>\n",
       "      <td>1.052250</td>\n",
       "      <td>0.824765</td>\n",
       "      <td>18.63300</td>\n",
       "      <td>775.92300</td>\n",
       "      <td>374.0360</td>\n",
       "      <td>0.361667</td>\n",
       "      <td>FF2023aaaaamb</td>\n",
       "    </tr>\n",
       "    <tr>\n",
       "      <th>0</th>\n",
       "      <td>2.459821e+06</td>\n",
       "      <td>2.358976</td>\n",
       "      <td>0.251121</td>\n",
       "      <td>5.275541</td>\n",
       "      <td>304.750345</td>\n",
       "      <td>58.157846</td>\n",
       "      <td>342.815164</td>\n",
       "      <td>0.081354</td>\n",
       "      <td>0.008456</td>\n",
       "      <td>0.377315</td>\n",
       "      <td>1.06359</td>\n",
       "      <td>2.43947</td>\n",
       "      <td>1.2571</td>\n",
       "      <td>2.728333</td>\n",
       "      <td>FF2023aaaaamc</td>\n",
       "    </tr>\n",
       "    <tr>\n",
       "      <th>0</th>\n",
       "      <td>2.459823e+06</td>\n",
       "      <td>6.525971</td>\n",
       "      <td>0.783301</td>\n",
       "      <td>4.540030</td>\n",
       "      <td>173.979493</td>\n",
       "      <td>319.426800</td>\n",
       "      <td>326.989644</td>\n",
       "      <td>-1.000000</td>\n",
       "      <td>-1.000000</td>\n",
       "      <td>-1.000000</td>\n",
       "      <td>-1.00000</td>\n",
       "      <td>-1.00000</td>\n",
       "      <td>-1.0000</td>\n",
       "      <td>-1.000000</td>\n",
       "      <td>FF2023aaaaamd</td>\n",
       "    </tr>\n",
       "  </tbody>\n",
       "</table>\n",
       "</div>"
      ],
      "text/plain": [
       "      ref_epoch          a         e         i  long. node  arg. peric  \\\n",
       "0  2.459814e+06  50.430875  0.926643  2.796635  137.321276  168.058791   \n",
       "0  2.459820e+06   8.085766  0.404250  4.198385  161.458208  216.409921   \n",
       "2  2.459820e+06   6.657587  0.337133  2.500486  130.961333  233.292874   \n",
       "0  2.459821e+06   2.358976  0.251121  5.275541  304.750345   58.157846   \n",
       "0  2.459823e+06   6.525971  0.783301  4.540030  173.979493  319.426800   \n",
       "\n",
       "   mean anomaly     rms_a     rms_e     rms_i  rms_long. node  rms_arg. peric  \\\n",
       "0      0.926061 -1.000000 -1.000000 -1.000000        -1.00000        -1.00000   \n",
       "0    352.731526  0.830293  0.228862  0.612313         2.75339       313.97800   \n",
       "2    358.370126  9.591750  1.052250  0.824765        18.63300       775.92300   \n",
       "0    342.815164  0.081354  0.008456  0.377315         1.06359         2.43947   \n",
       "0    326.989644 -1.000000 -1.000000 -1.000000        -1.00000        -1.00000   \n",
       "\n",
       "   rms_mean anomaly  chi_reduced      ssoCandId  \n",
       "0           -1.0000    -1.000000  FF2023aaaaalx  \n",
       "0          121.8200     0.221667  FF2023aaaaama  \n",
       "2          374.0360     0.361667  FF2023aaaaamb  \n",
       "0            1.2571     2.728333  FF2023aaaaamc  \n",
       "0           -1.0000    -1.000000  FF2023aaaaamd  "
      ]
     },
     "execution_count": 4,
     "metadata": {},
     "output_type": "execute_result"
    }
   ],
   "source": [
    "orb[orb['ssoCandId'].isin(id_follow_up)]"
   ]
  },
  {
   "cell_type": "code",
   "execution_count": 34,
   "metadata": {},
   "outputs": [
    {
     "name": "stdout",
     "output_type": "stream",
     "text": [
      "ssoCandId, npoint, lastdate, arc length\n",
      "FF2023aaaaalx 6 2022-08-22 11.96789349988103\n",
      "FF2023aaaaama 6 2022-08-28 6.011331100016832\n",
      "FF2023aaaaamb 6 2022-08-28 4.06982639990747\n",
      "FF2023aaaaamc 6 2022-08-29 7.989247700199485\n",
      "FF2023aaaaamd 6 2022-08-31 9.134259299840778\n"
     ]
    }
   ],
   "source": [
    "print('ssoCandId, npoint, lastdate, arc length')\n",
    "for id_ in id_follow_up:\n",
    "    sub = traj[traj['ssoCandId'] == id_]\n",
    "    ld = sub[sub['jd'] == np.max(sub['jd'])]['last_assoc_date'].values[0]\n",
    "    arc = np.max(sub['jd']) - np.min(sub['jd'])\n",
    "    print(id_, len(sub), ld, arc)"
   ]
  },
  {
   "cell_type": "markdown",
   "metadata": {},
   "source": [
    "## Utils"
   ]
  },
  {
   "cell_type": "code",
   "execution_count": 6,
   "metadata": {},
   "outputs": [],
   "source": [
    "def compute_sep_from_ztf(traj, fink_id, mpc_id, id_type=None):\n",
    "    \"\"\" Compute the separation between a Fink trajectory and a SSO object\n",
    "        \n",
    "    Parameters\n",
    "    ----------\n",
    "    fink_id: str\n",
    "        Fink-FAT ssoCandId\n",
    "    mpc_id: str or int\n",
    "        MPC number or designation\n",
    "    id_type: None or str\n",
    "        If the mpc_id is a major body (e.g. planet satellite), specify id_type=\"id\"\n",
    "        \n",
    "    Returns\n",
    "    -----------\n",
    "    out: list\n",
    "        List of separation between the Fink-FAT trajectory alerts and the SSO\n",
    "    \"\"\"\n",
    "    t_ztf = traj[traj['ssoCandId'] == fink_id]['jd'].values\n",
    "    epoch = Time(t_ztf, format='jd', scale='utc') # time in UT\n",
    "    \n",
    "    if id_type is None:\n",
    "        eph = Ephem.from_horizons(mpc_id, location='I41', epochs=epoch)\n",
    "    else:\n",
    "        eph = Ephem.from_horizons(mpc_id, id_type=id_type, location='I41', epochs=epoch)\n",
    "\n",
    "    t = eph.table\n",
    "    prediction = SkyCoord(t['RA'], t['DEC'])\n",
    "\n",
    "    obs = SkyCoord(\n",
    "        traj[traj['ssoCandId'] == fink_id]['ra'].values,\n",
    "        traj[traj['ssoCandId'] == fink_id]['dec'].values,\n",
    "        unit='deg'\n",
    "    )\n",
    "\n",
    "    return prediction.separation(obs)\n",
    "\n",
    "def deviation_from_single(ra_pred, dec_pred, t_pred, mpc_id, location='W85', id_type=None):\n",
    "    \"\"\" Compute the deviation between a prediction/observation and a SSO object\n",
    "        \n",
    "    Parameters\n",
    "    ----------\n",
    "    ra_pred: str\n",
    "        RA in whatever unit\n",
    "    dec_pred: str\n",
    "        DEC in whatever unit\n",
    "    t_pred: str\n",
    "        Time of the prediction (iso)\n",
    "    mpc_id: str or int\n",
    "        MPC number or designation\n",
    "    id_type: None or str\n",
    "        If the mpc_id is a major body (e.g. planet satellite), specify id_type=\"id\"\n",
    "        \n",
    "    Returns\n",
    "    -----------\n",
    "    out: astropy angle\n",
    "        Separation between the prediction and the SSO\n",
    "    \"\"\"\n",
    "    epoch = Time(t_pred, scale='utc') # time in UT\n",
    "    \n",
    "    if id_type is None:\n",
    "        eph = Ephem.from_horizons(mpc_id, location=location, epochs=epoch)\n",
    "    else:\n",
    "        eph = Ephem.from_horizons(mpc_id, id_type=id_type, location='I41', epochs=epoch)\n",
    "\n",
    "    t = eph.table\n",
    "    prediction = SkyCoord(t['RA'], t['DEC'])\n",
    "\n",
    "    obs = SkyCoord(\n",
    "        ra_pred, dec_pred, unit='deg'\n",
    "    )\n",
    "\n",
    "    return prediction.separation(obs)"
   ]
  },
  {
   "cell_type": "markdown",
   "metadata": {},
   "source": [
    "## FF2023aaaaalx/FF2022aaaaawi/57262\n",
    "\n",
    "This one was followed up during the LCOGT campaign (observation date on 2022/10/01). William reported the following follow-up observations\n",
    "\n",
    "```\n",
    "     AstXXXX  C2022 10  1.09963 00 19 30.34 -00 43 07.0          17.9 r      W85\n",
    "     AstXXXX  C2022 10  1.10260 00 19 30.26 -00 43 07.6          17.9 r      W85\n",
    "     AstXXXX  C2022 10  1.10557 00 19 30.18 -00 43 08.1          17.9 r      W85\n",
    "     AstXXXX  C2022 10  1.10856 00 19 30.10 -00 43 08.7          18.0 r      W85\n",
    "     AstXXXX  C2022 10  1.11152 00 19 30.01 -00 43 09.2          17.9 r      W85\n",
    "     AstXXXX  C2022 10  1.11449 00 19 29.93 -00 43 09.8          18.0 r      W85\n",
    "```\n",
    "\n",
    "And the following asteroid associations:\n",
    "\n",
    "```\n",
    "(152295) 2005 TX42       00 19 22.7 -00 41 50  18.1   1.9W   1.3N    41-     0-   18o  None needed at this time.\n",
    "(425019) 2009 EK29       00 19 26.6 -00 39 22  20.6   0.9W   3.8N    25-    18-   11o  None needed at this time.\n",
    "```\n",
    "\n",
    "In addition he checked for Jupiter moon and found:\n",
    "\n",
    "```\n",
    "v5.22.02i     Planet: Jupiter CALCEPH:  (INPOP19a)\n",
    "        Satellite: J9 Sinope  ( Emelyanov N.V. Version 2021-01-31)\n",
    "                               - ephemerides on 1905/01/01.0-2050/02/09.0\n",
    "    Observatory N: W87 - Cerro Tololo-LCO C\n",
    "        Timescale: UTC\n",
    "Mean equator and equinox of J2000.  ICRF. \n",
    "Coordinates astrometric \n",
    "Year Month  Day     alpha (h m s)      delta (º ' \")\n",
    "2022 10  1.099630  0 19 30.343416    0 -43   7.005888\n",
    "```\n",
    "\n",
    "So we have 3 objects nearby to check. We will compute the distance between the objects found and the ZTF observations (association in the past), at the time of the ZTF observations to see if those candidate objects are still relevant:"
   ]
  },
  {
   "cell_type": "markdown",
   "metadata": {},
   "source": [
    "### (152295) 2005 TX42"
   ]
  },
  {
   "cell_type": "code",
   "execution_count": 7,
   "metadata": {},
   "outputs": [
    {
     "name": "stdout",
     "output_type": "stream",
     "text": [
      "Distance between the object and William observation:  0d02m03.1166s\n",
      "\n",
      "Distance between the object and ZTF observation at the time of the trajectory: \n"
     ]
    },
    {
     "name": "stderr",
     "output_type": "stream",
     "text": [
      "/opt/Anaconda3-2020.02/lib/python3.7/site-packages/astropy/table/table.py:3487: UserWarning: dropping mask in Quantity column 'surfbright': masked Quantity not supported\n",
      "  \"masked Quantity not supported\".format(col.info.name))\n",
      "/opt/Anaconda3-2020.02/lib/python3.7/site-packages/astropy/table/table.py:3487: UserWarning: dropping mask in Quantity column 'illum_defect': masked Quantity not supported\n",
      "  \"masked Quantity not supported\".format(col.info.name))\n",
      "/opt/Anaconda3-2020.02/lib/python3.7/site-packages/astropy/table/table.py:3487: UserWarning: dropping mask in Quantity column 'ang_width': masked Quantity not supported\n",
      "  \"masked Quantity not supported\".format(col.info.name))\n",
      "/opt/Anaconda3-2020.02/lib/python3.7/site-packages/astropy/table/table.py:3487: UserWarning: dropping mask in Quantity column 'PDObsLon': masked Quantity not supported\n",
      "  \"masked Quantity not supported\".format(col.info.name))\n",
      "/opt/Anaconda3-2020.02/lib/python3.7/site-packages/astropy/table/table.py:3487: UserWarning: dropping mask in Quantity column 'PDObsLat': masked Quantity not supported\n",
      "  \"masked Quantity not supported\".format(col.info.name))\n",
      "/opt/Anaconda3-2020.02/lib/python3.7/site-packages/astropy/table/table.py:3487: UserWarning: dropping mask in Quantity column 'PDSunLon': masked Quantity not supported\n",
      "  \"masked Quantity not supported\".format(col.info.name))\n",
      "/opt/Anaconda3-2020.02/lib/python3.7/site-packages/astropy/table/table.py:3487: UserWarning: dropping mask in Quantity column 'PDSunLat': masked Quantity not supported\n",
      "  \"masked Quantity not supported\".format(col.info.name))\n",
      "/opt/Anaconda3-2020.02/lib/python3.7/site-packages/astropy/table/table.py:3487: UserWarning: dropping mask in Quantity column 'NPole_ang': masked Quantity not supported\n",
      "  \"masked Quantity not supported\".format(col.info.name))\n",
      "/opt/Anaconda3-2020.02/lib/python3.7/site-packages/astropy/table/table.py:3487: UserWarning: dropping mask in Quantity column 'NPole_dist': masked Quantity not supported\n",
      "  \"masked Quantity not supported\".format(col.info.name))\n",
      "/opt/Anaconda3-2020.02/lib/python3.7/site-packages/astropy/table/table.py:3487: UserWarning: dropping mask in Quantity column 'NPole_RA': masked Quantity not supported\n",
      "  \"masked Quantity not supported\".format(col.info.name))\n",
      "/opt/Anaconda3-2020.02/lib/python3.7/site-packages/astropy/table/table.py:3487: UserWarning: dropping mask in Quantity column 'NPole_DEC': masked Quantity not supported\n",
      "  \"masked Quantity not supported\".format(col.info.name))\n"
     ]
    },
    {
     "data": {
      "text/latex": [
       "[$4^\\circ33{}^\\prime25.5969{}^{\\prime\\prime}$\n",
       " $4^\\circ33{}^\\prime26.0732{}^{\\prime\\prime}$\n",
       " $4^\\circ34{}^\\prime25.1008{}^{\\prime\\prime}$\n",
       " $4^\\circ34{}^\\prime41.0769{}^{\\prime\\prime}$\n",
       " $4^\\circ30{}^\\prime08.8473{}^{\\prime\\prime}$\n",
       " $4^\\circ30{}^\\prime02.9536{}^{\\prime\\prime}$]"
      ],
      "text/plain": [
       "<Angle [4.55711024, 4.55724255, 4.57363912, 4.57807693, 4.50245758,\n",
       "        4.50082045] deg>"
      ]
     },
     "execution_count": 7,
     "metadata": {},
     "output_type": "execute_result"
    }
   ],
   "source": [
    "d = deviation_from_single('00h19m29.93s', '-00d43m09.8s', '2022-10-01 02:00:00', mpc_id=152295, location='W85')\n",
    "print('Distance between the object and William observation: ', d[0])\n",
    "\n",
    "print()\n",
    "print('Distance between the object and ZTF observation at the time of the trajectory: ')\n",
    "compute_sep_from_ztf(traj, 'FF2023aaaaalx', 152295)"
   ]
  },
  {
   "cell_type": "markdown",
   "metadata": {},
   "source": [
    "### (425019) 2009 EK29"
   ]
  },
  {
   "cell_type": "code",
   "execution_count": 8,
   "metadata": {},
   "outputs": [
    {
     "name": "stdout",
     "output_type": "stream",
     "text": [
      "[0d03m58.4296s]\n"
     ]
    },
    {
     "data": {
      "text/latex": [
       "[$3^\\circ56{}^\\prime41.847{}^{\\prime\\prime}$\n",
       " $3^\\circ56{}^\\prime36.8691{}^{\\prime\\prime}$\n",
       " $3^\\circ52{}^\\prime14.8086{}^{\\prime\\prime}$\n",
       " $3^\\circ39{}^\\prime04.5333{}^{\\prime\\prime}$\n",
       " $3^\\circ23{}^\\prime25.8476{}^{\\prime\\prime}$\n",
       " $3^\\circ23{}^\\prime15.316{}^{\\prime\\prime}$]"
      ],
      "text/plain": [
       "<Angle [3.94495749, 3.94357474, 3.87078016, 3.65125925, 3.39051323,\n",
       "        3.38758776] deg>"
      ]
     },
     "execution_count": 8,
     "metadata": {},
     "output_type": "execute_result"
    }
   ],
   "source": [
    "print(deviation_from_single('00h19m29.93s', '-00d43m09.8s', '2022-10-01 02:00:00', 425019, location='W85'))\n",
    "\n",
    "compute_sep_from_ztf(traj, 'FF2023aaaaalx', 425019)"
   ]
  },
  {
   "cell_type": "markdown",
   "metadata": {},
   "source": [
    "### Jupiter IX (Sinope)"
   ]
  },
  {
   "cell_type": "code",
   "execution_count": 9,
   "metadata": {},
   "outputs": [
    {
     "name": "stdout",
     "output_type": "stream",
     "text": [
      "[0d00m14.0438s]\n"
     ]
    },
    {
     "name": "stderr",
     "output_type": "stream",
     "text": [
      "WARNING: AstropyDeprecationWarning: ``id_type``s 'majorbody' and 'id' are deprecated and replaced with ``None``, which has the same functionality. [astroquery.jplhorizons.core]\n",
      "/opt/Anaconda3-2020.02/lib/python3.7/site-packages/astropy/table/table.py:3487: UserWarning: dropping mask in Quantity column 'RA_3sigma': masked Quantity not supported\n",
      "  \"masked Quantity not supported\".format(col.info.name))\n",
      "/opt/Anaconda3-2020.02/lib/python3.7/site-packages/astropy/table/table.py:3487: UserWarning: dropping mask in Quantity column 'DEC_3sigma': masked Quantity not supported\n",
      "  \"masked Quantity not supported\".format(col.info.name))\n",
      "/opt/Anaconda3-2020.02/lib/python3.7/site-packages/astropy/table/table.py:3487: UserWarning: dropping mask in Quantity column 'SMAA_3sigma': masked Quantity not supported\n",
      "  \"masked Quantity not supported\".format(col.info.name))\n",
      "/opt/Anaconda3-2020.02/lib/python3.7/site-packages/astropy/table/table.py:3487: UserWarning: dropping mask in Quantity column 'SMIA_3sigma': masked Quantity not supported\n",
      "  \"masked Quantity not supported\".format(col.info.name))\n",
      "/opt/Anaconda3-2020.02/lib/python3.7/site-packages/astropy/table/table.py:3487: UserWarning: dropping mask in Quantity column 'Theta_3sigma': masked Quantity not supported\n",
      "  \"masked Quantity not supported\".format(col.info.name))\n",
      "/opt/Anaconda3-2020.02/lib/python3.7/site-packages/astropy/table/table.py:3487: UserWarning: dropping mask in Quantity column 'Area_3sigma': masked Quantity not supported\n",
      "  \"masked Quantity not supported\".format(col.info.name))\n",
      "/opt/Anaconda3-2020.02/lib/python3.7/site-packages/astropy/table/table.py:3487: UserWarning: dropping mask in Quantity column 'RSS_3sigma': masked Quantity not supported\n",
      "  \"masked Quantity not supported\".format(col.info.name))\n",
      "/opt/Anaconda3-2020.02/lib/python3.7/site-packages/astropy/table/table.py:3487: UserWarning: dropping mask in Quantity column 'r_3sigma': masked Quantity not supported\n",
      "  \"masked Quantity not supported\".format(col.info.name))\n",
      "/opt/Anaconda3-2020.02/lib/python3.7/site-packages/astropy/table/table.py:3487: UserWarning: dropping mask in Quantity column 'r_rate_3sigma': masked Quantity not supported\n",
      "  \"masked Quantity not supported\".format(col.info.name))\n",
      "/opt/Anaconda3-2020.02/lib/python3.7/site-packages/astropy/table/table.py:3487: UserWarning: dropping mask in Quantity column 'SBand_3sigma': masked Quantity not supported\n",
      "  \"masked Quantity not supported\".format(col.info.name))\n",
      "/opt/Anaconda3-2020.02/lib/python3.7/site-packages/astropy/table/table.py:3487: UserWarning: dropping mask in Quantity column 'XBand_3sigma': masked Quantity not supported\n",
      "  \"masked Quantity not supported\".format(col.info.name))\n",
      "/opt/Anaconda3-2020.02/lib/python3.7/site-packages/astropy/table/table.py:3487: UserWarning: dropping mask in Quantity column 'DoppDelay_3sigma': masked Quantity not supported\n",
      "  \"masked Quantity not supported\".format(col.info.name))\n",
      "/opt/Anaconda3-2020.02/lib/python3.7/site-packages/astropy/table/table.py:3487: UserWarning: dropping mask in Quantity column 'true_anom': masked Quantity not supported\n",
      "  \"masked Quantity not supported\".format(col.info.name))\n"
     ]
    },
    {
     "data": {
      "text/latex": [
       "[$0^\\circ00{}^\\prime00.1053{}^{\\prime\\prime}$\n",
       " $0^\\circ00{}^\\prime00.0792{}^{\\prime\\prime}$\n",
       " $0^\\circ00{}^\\prime00.0289{}^{\\prime\\prime}$\n",
       " $0^\\circ00{}^\\prime00.1179{}^{\\prime\\prime}$\n",
       " $0^\\circ00{}^\\prime00.0908{}^{\\prime\\prime}$\n",
       " $0^\\circ00{}^\\prime00.0511{}^{\\prime\\prime}$]"
      ],
      "text/plain": [
       "<Angle [2.92384030e-05, 2.20027084e-05, 8.01482423e-06, 3.27534357e-05,\n",
       "        2.52180334e-05, 1.42003520e-05] deg>"
      ]
     },
     "execution_count": 9,
     "metadata": {},
     "output_type": "execute_result"
    }
   ],
   "source": [
    "print(deviation_from_single('00h19m29.93s', '-00d43m09.8s', '2022-10-01 02:00:00', 'JIX', location='W85', id_type='id'))\n",
    "\n",
    "compute_sep_from_ztf(traj, 'FF2023aaaaalx', 'Sinope', id_type='id')"
   ]
  },
  {
   "cell_type": "markdown",
   "metadata": {},
   "source": [
    "We can also check in this website: https://www.minorplanetcenter.net/iau/NatSats/NaturalSatellites.html"
   ]
  },
  {
   "cell_type": "code",
   "execution_count": 10,
   "metadata": {},
   "outputs": [
    {
     "data": {
      "text/plain": [
       "'2022-08-22 09:17:46.997'"
      ]
     },
     "execution_count": 10,
     "metadata": {},
     "output_type": "execute_result"
    }
   ],
   "source": [
    "jds = traj[traj['ssoCandId'] == 'FF2023aaaaalx']['jd'].values \n",
    "mask = jds == np.max(jds)\n",
    "\n",
    "Time(jds[mask][0], format='jd').iso"
   ]
  },
  {
   "cell_type": "markdown",
   "metadata": {},
   "source": [
    "The closest ephemerides in time gives (read from the website):"
   ]
  },
  {
   "cell_type": "code",
   "execution_count": 11,
   "metadata": {},
   "outputs": [
    {
     "data": {
      "text/latex": [
       "$0^\\circ00{}^\\prime01.6141{}^{\\prime\\prime}$"
      ],
      "text/plain": [
       "<Angle 0.00044837 deg>"
      ]
     },
     "execution_count": 11,
     "metadata": {},
     "output_type": "execute_result"
    }
   ],
   "source": [
    "ra_eph = '00h34m20.9s'\n",
    "dec_eph = '+01d10m31s'\n",
    "\n",
    "eph = SkyCoord(ra_eph, dec_eph)\n",
    "\n",
    "ra_ztf = traj[traj['ssoCandId'] == 'FF2023aaaaalx']['ra'].values[mask][0]\n",
    "dec_ztf = traj[traj['ssoCandId'] == 'FF2023aaaaalx']['dec'].values[mask][0]\n",
    "\n",
    "eph_ztf = SkyCoord(ra_ztf, dec_ztf, unit='deg')\n",
    "\n",
    "eph.separation(eph_ztf)"
   ]
  },
  {
   "cell_type": "markdown",
   "metadata": {},
   "source": [
    "### Conclusion\n",
    "\n",
    "At the time of ZTF observations, only Jupiter IX was compatible :-)"
   ]
  },
  {
   "cell_type": "markdown",
   "metadata": {},
   "source": [
    "### Deviation\n",
    "\n",
    "the observation was made 1 month after the last prediction -- let compute the "
   ]
  },
  {
   "cell_type": "code",
   "execution_count": 12,
   "metadata": {},
   "outputs": [
    {
     "name": "stderr",
     "output_type": "stream",
     "text": [
      "/opt/Anaconda3-2020.02/lib/python3.7/site-packages/astropy/table/table.py:3487: UserWarning: dropping mask in Quantity column 'magextinct': masked Quantity not supported\n",
      "  \"masked Quantity not supported\".format(col.info.name))\n"
     ]
    },
    {
     "data": {
      "text/latex": [
       "[$0^\\circ04{}^\\prime23.4166{}^{\\prime\\prime}$]"
      ],
      "text/plain": [
       "<Angle [0.07317127] deg>"
      ]
     },
     "execution_count": 12,
     "metadata": {},
     "output_type": "execute_result"
    }
   ],
   "source": [
    "# taken from Roman's ephemerides 2022-09-30\n",
    "ra_pred, dec_pred = 4.958566717023006,-0.6869169649257217\n",
    "deviation_from_single(ra_pred, dec_pred, '2022-09-30 23:30:00', mpc_id='JIX', id_type='id')"
   ]
  },
  {
   "cell_type": "markdown",
   "metadata": {},
   "source": [
    "## FF2023aaaaama/FF2022aaaaawm/57392\n",
    "\n",
    "This one was followed up during the LCOGT campaign (observation date on 2022/10/01). William reported the following follow-up observations\n",
    "\n",
    "```\n",
    "     AstXXXX  C2022 10  1.08975 00 09 42.29 -01 02 40.7          16.5 r      W87\n",
    "     AstXXXX  C2022 10  1.09162 00 09 42.24 -01 02 41.1          16.7 r      W87\n",
    "     AstXXXX  C2022 10  1.09354 00 09 42.20 -01 02 41.4          16.6 r      W87\n",
    "     AstXXXX  C2022 10  1.09650 00 09 42.13 -01 02 41.9          16.6 r      W87\n",
    "     AstXXXX  C2022 10  1.09946 00 09 42.05 -01 02 42.5          16.6 r      W87\n",
    "     AstXXXX  C2022 10  1.10244 00 09 41.99 -01 02 43.0          16.6 r      W87\n",
    "     AstXXXX  C2022 10  1.10539 00 09 41.91 -01 02 43.5          16.6 r      W87\n",
    "     AstXXXX  C2022 10  1.10769 00 09 41.85 -01 02 43.9          16.6 r      W87\n",
    "     AstXXXX  C2022 10  1.14189 00 09 41.03 -01 02 50.2          16.5 r      W87\n",
    "     AstXXXX  C2022 10  1.14486 00 09 40.95 -01 02 50.8          16.5 r      W87\n",
    "     AstXXXX  C2022 10  1.14784 00 09 40.88 -01 02 51.3          16.5 r      W87\n",
    "     AstXXXX  C2022 10  1.15080 00 09 40.81 -01 02 51.8          16.6 r      W87\n",
    "     AstXXXX  C2022 10  1.15376 00 09 40.73 -01 02 52.4          16.5 r      W87\n",
    "     AstXXXX  C2022 10  1.15673 00 09 40.66 -01 02 52.9          16.6 r      W87\n",
    "```\n",
    "\n",
    "And the following asteroid associations (far field):\n",
    "\n",
    "```\n",
    "         2012 XF166      00 09 54.0 -01 00 57  21.6   3.0E   1.8N    33-     3-    5o \n",
    "(549752) 2011 SQ146      00 09 52.9 -00 59 49  19.8   2.8E   2.9N    33-     9-   10o \n",
    "```\n",
    "\n",
    "In addition he checked for Jupiter moon and found:\n",
    "\n",
    "```\n",
    "Verification pour J8 Pasiphae\n",
    "\n",
    "Je regarde d'abord sur https://ssp.imcce.fr/forms/relative-positions  dans l onglet \"configuration\"\n",
    "quel pourrait etre le satellite de Jupiter proche de cet objet et de meme magnitude:  peut-etre J8 Pasiphae\n",
    "\n",
    "Ensuite je vérifie plus exactement sur: http://nsdb.imcce.fr/multisat/nssre10he.htm\n",
    "avec la premiere date des mesures ci-dessus\n",
    "\n",
    "5.22.02i     Planet: Jupiter CALCEPH:  (INPOP19a)\n",
    "        Satellite: J8 Pasiphae  ( Emelyanov N.V. Version 2021-01-31)\n",
    "                               - ephemerides on 1905/01/01.0-2050/02/09.0\n",
    "    Observatory N: W87 - Cerro Tololo-LCO C\n",
    "        Timescale: UTC\n",
    "Mean equator and equinox of J2000.  ICRF. \n",
    "Coordinates astrometric \n",
    "Year Month  Day     alpha (h m s)      delta (º ' \")\n",
    "2022 10  1.089750  0  9 42.278580   -1   2  40.726002\n",
    "\n",
    "Pile dessus!  ==> donc c'est bien J8 Pasiphae\n",
    "```\n",
    "\n",
    "So we have 3 objects nearby to check. We will compute the distance between the objects found and the ZTF observations (association in the past), at the time of the ZTF observations to see if those candidate objects are still relevant:"
   ]
  },
  {
   "cell_type": "code",
   "execution_count": 13,
   "metadata": {},
   "outputs": [
    {
     "name": "stdout",
     "output_type": "stream",
     "text": [
      "[0d04m08.1847s]\n"
     ]
    },
    {
     "data": {
      "text/latex": [
       "[$4^\\circ00{}^\\prime50.5083{}^{\\prime\\prime}$\n",
       " $4^\\circ00{}^\\prime48.0079{}^{\\prime\\prime}$\n",
       " $3^\\circ52{}^\\prime56.6837{}^{\\prime\\prime}$\n",
       " $3^\\circ44{}^\\prime38.0972{}^{\\prime\\prime}$\n",
       " $3^\\circ44{}^\\prime31.4148{}^{\\prime\\prime}$\n",
       " $3^\\circ35{}^\\prime39.6323{}^{\\prime\\prime}$]"
      ],
      "text/plain": [
       "<Angle [4.0140301 , 4.01333554, 3.88241214, 3.74391588, 3.74205967,\n",
       "        3.59434232] deg>"
      ]
     },
     "execution_count": 13,
     "metadata": {},
     "output_type": "execute_result"
    }
   ],
   "source": [
    "print(deviation_from_single('00h09m40.66s', '-01d02m52.9s', '2022-10-01 02:00:00', mpc_id='2012 XF166'))\n",
    "\n",
    "\n",
    "compute_sep_from_ztf(traj, 'FF2023aaaaama', '2012 XF166')"
   ]
  },
  {
   "cell_type": "code",
   "execution_count": 14,
   "metadata": {},
   "outputs": [
    {
     "name": "stdout",
     "output_type": "stream",
     "text": [
      "[0d04m37.0121s]\n"
     ]
    },
    {
     "data": {
      "text/latex": [
       "[$2^\\circ52{}^\\prime20.9147{}^{\\prime\\prime}$\n",
       " $2^\\circ52{}^\\prime21.6687{}^{\\prime\\prime}$\n",
       " $2^\\circ55{}^\\prime01.2744{}^{\\prime\\prime}$\n",
       " $2^\\circ56{}^\\prime12.2955{}^{\\prime\\prime}$\n",
       " $2^\\circ56{}^\\prime11.8043{}^{\\prime\\prime}$\n",
       " $2^\\circ55{}^\\prime53.1012{}^{\\prime\\prime}$]"
      ],
      "text/plain": [
       "<Angle [2.87247631, 2.87268576, 2.91702067, 2.93674875, 2.9366123 ,\n",
       "        2.93141699] deg>"
      ]
     },
     "execution_count": 14,
     "metadata": {},
     "output_type": "execute_result"
    }
   ],
   "source": [
    "print(deviation_from_single('00h09m40.66s', '-01d02m52.9s', '2022-10-01 02:00:00', mpc_id=549752))\n",
    "\n",
    "compute_sep_from_ztf(traj, 'FF2023aaaaama', 549752)"
   ]
  },
  {
   "cell_type": "code",
   "execution_count": 15,
   "metadata": {},
   "outputs": [
    {
     "data": {
      "text/latex": [
       "[$0^\\circ00{}^\\prime00.1496{}^{\\prime\\prime}$\n",
       " $0^\\circ00{}^\\prime00.1437{}^{\\prime\\prime}$\n",
       " $0^\\circ00{}^\\prime00.051{}^{\\prime\\prime}$\n",
       " $0^\\circ00{}^\\prime00.171{}^{\\prime\\prime}$\n",
       " $0^\\circ00{}^\\prime00.134{}^{\\prime\\prime}$\n",
       " $0^\\circ00{}^\\prime00.1624{}^{\\prime\\prime}$]"
      ],
      "text/plain": [
       "<Angle [4.15453119e-05, 3.99230898e-05, 1.41591385e-05, 4.75106186e-05,\n",
       "        3.72220636e-05, 4.51059998e-05] deg>"
      ]
     },
     "execution_count": 15,
     "metadata": {},
     "output_type": "execute_result"
    }
   ],
   "source": [
    "compute_sep_from_ztf(traj, 'FF2023aaaaama', 'JVIII', id_type='id')"
   ]
  },
  {
   "cell_type": "markdown",
   "metadata": {},
   "source": [
    "Jupiter VIII was the closest during ZTF observations!"
   ]
  },
  {
   "cell_type": "markdown",
   "metadata": {},
   "source": [
    "### Deviation"
   ]
  },
  {
   "cell_type": "code",
   "execution_count": 16,
   "metadata": {},
   "outputs": [
    {
     "data": {
      "text/latex": [
       "[$0^\\circ00{}^\\prime38.4797{}^{\\prime\\prime}$]"
      ],
      "text/plain": [
       "<Angle [0.0106888] deg>"
      ]
     },
     "execution_count": 16,
     "metadata": {},
     "output_type": "execute_result"
    }
   ],
   "source": [
    "# taken from Roman's ephemerides 2022-09-30\n",
    "ra_pred, dec_pred = 2.4326186183052916,-1.049377010400635\n",
    "deviation_from_single(ra_pred, dec_pred, '2022-09-30 23:30:00', mpc_id='JVIII', id_type='id')"
   ]
  },
  {
   "cell_type": "markdown",
   "metadata": {},
   "source": [
    "## FF2023aaaaamb/FF2022aaaaawn/57417\n",
    "\n",
    "This one was followed up during the LCOGT campaign (observation date on 2022/09/25). William reported the following follow-up observations\n",
    "\n",
    "```\n",
    "     AstXXXX  C2022 09 25.24131 00 22 09.45 -00 24 43.0          17.6 r      W85\n",
    "     AstXXXX  C2022 09 25.24450 00 22 09.36 -00 24 43.6          17.6 r      W85\n",
    "     AstXXXX  C2022 09 25.24770 00 22 09.27 -00 24 44.2          17.6 r      W85\n",
    "     AstXXXX  C2022 09 25.25091 00 22 09.18 -00 24 44.9          17.6 r      W85\n",
    "     AstXXXX  C2022 09 25.25410 00 22 09.09 -00 24 45.4          17.6 r      W85\n",
    "     AstXXXX  C2022 09 25.25730 00 22 09.01 -00 24 46.1          17.6 r      W85\n",
    "```\n",
    "\n",
    "And the following asteroid associations (far field):\n",
    "\n",
    "```\n",
    "(426612) 2013 SY46       00 22 10.6 -00 22 54  20.4   0.3E   1.8N    31-    15-   16o  \n",
    "(274218) 2008 JU30       00 22 06.3 -00 28 24  19.8   0.8W   3.7S    32-    29-   10o  \n",
    "```\n",
    "\n",
    "In addition he checked for Jupiter moon and found:\n",
    "\n",
    "```\n",
    "http://nsdb.imcce.fr/multisat/nsso-10he.htm \n",
    "donne:\n",
    "v5.22.02i     Planet: Jupiter CALCEPH:  (INPOP19a)\n",
    "        Satellite: J9 Sinope  ( Emelyanov N.V. Version 2021-01-31)\n",
    "                               - ephemerides on 1905/01/01.0-2050/02/09.0\n",
    "    Observatory N: W87 - Cerro Tololo-LCO C\n",
    "        Timescale: UTC\n",
    "Mean equator and equinox of J2000.  ICRF. \n",
    "Coordinates astrometric \n",
    "Year Month  Day     alpha (h m s)      delta (º ' \")\n",
    "2022  9 25.241310  0 22  9.453143    0 -24  42.991085\n",
    "```\n",
    "\n",
    "So we have 3 objects nearby to check. We will compute the distance between the objects found and the ZTF observations (association in the past), at the time of the ZTF observations to see if those candidate objects are still relevant:"
   ]
  },
  {
   "cell_type": "code",
   "execution_count": 17,
   "metadata": {},
   "outputs": [
    {
     "name": "stdout",
     "output_type": "stream",
     "text": [
      "[0d01m49.9464s]\n"
     ]
    },
    {
     "data": {
      "text/latex": [
       "[$2^\\circ16{}^\\prime17.8314{}^{\\prime\\prime}$\n",
       " $2^\\circ16{}^\\prime15.3791{}^{\\prime\\prime}$\n",
       " $2^\\circ13{}^\\prime16.6761{}^{\\prime\\prime}$\n",
       " $2^\\circ13{}^\\prime16.8056{}^{\\prime\\prime}$\n",
       " $2^\\circ13{}^\\prime13.9155{}^{\\prime\\prime}$\n",
       " $2^\\circ09{}^\\prime08.5022{}^{\\prime\\prime}$]"
      ],
      "text/plain": [
       "<Angle [2.27161984, 2.27093865, 2.22129892, 2.2213349 , 2.22053207,\n",
       "        2.15236171] deg>"
      ]
     },
     "execution_count": 17,
     "metadata": {},
     "output_type": "execute_result"
    }
   ],
   "source": [
    "print(deviation_from_single('00h22m09.01s', '-00d24m46.1s', '2022-09-25 06:00:00', mpc_id=426612))\n",
    "\n",
    "compute_sep_from_ztf(traj, 'FF2023aaaaamb', 426612)"
   ]
  },
  {
   "cell_type": "code",
   "execution_count": 18,
   "metadata": {},
   "outputs": [
    {
     "name": "stdout",
     "output_type": "stream",
     "text": [
      "[0d03m49.6373s]\n"
     ]
    },
    {
     "data": {
      "text/latex": [
       "[$4^\\circ17{}^\\prime49.6897{}^{\\prime\\prime}$\n",
       " $4^\\circ17{}^\\prime42.6097{}^{\\prime\\prime}$\n",
       " $4^\\circ08{}^\\prime50.6353{}^{\\prime\\prime}$\n",
       " $4^\\circ08{}^\\prime50.8113{}^{\\prime\\prime}$\n",
       " $4^\\circ08{}^\\prime43.3638{}^{\\prime\\prime}$\n",
       " $3^\\circ58{}^\\prime08.2301{}^{\\prime\\prime}$]"
      ],
      "text/plain": [
       "<Angle [4.29713602, 4.29516937, 4.14739868, 4.14744758, 4.14537885,\n",
       "        3.96895281] deg>"
      ]
     },
     "execution_count": 18,
     "metadata": {},
     "output_type": "execute_result"
    }
   ],
   "source": [
    "print(deviation_from_single('00h22m09.01s', '-00d24m46.1s', '2022-09-25 06:00:00', mpc_id=274218))\n",
    "\n",
    "compute_sep_from_ztf(traj, 'FF2023aaaaamb', 274218)"
   ]
  },
  {
   "cell_type": "code",
   "execution_count": 19,
   "metadata": {},
   "outputs": [
    {
     "data": {
      "text/latex": [
       "[$0^\\circ00{}^\\prime00.0313{}^{\\prime\\prime}$\n",
       " $0^\\circ00{}^\\prime00.0823{}^{\\prime\\prime}$\n",
       " $0^\\circ00{}^\\prime00.0598{}^{\\prime\\prime}$\n",
       " $0^\\circ00{}^\\prime00.0487{}^{\\prime\\prime}$\n",
       " $0^\\circ00{}^\\prime00.0511{}^{\\prime\\prime}$\n",
       " $0^\\circ00{}^\\prime00.0901{}^{\\prime\\prime}$]"
      ],
      "text/plain": [
       "<Angle [8.68131236e-06, 2.28540784e-05, 1.66000276e-05, 1.35236753e-05,\n",
       "        1.41989012e-05, 2.50279084e-05] deg>"
      ]
     },
     "execution_count": 19,
     "metadata": {},
     "output_type": "execute_result"
    }
   ],
   "source": [
    "compute_sep_from_ztf(traj, 'FF2023aaaaamb', 'JIX', id_type='id')"
   ]
  },
  {
   "cell_type": "markdown",
   "metadata": {},
   "source": [
    "### Deviation"
   ]
  },
  {
   "cell_type": "code",
   "execution_count": 20,
   "metadata": {},
   "outputs": [
    {
     "data": {
      "text/latex": [
       "[$0^\\circ00{}^\\prime18.456{}^{\\prime\\prime}$]"
      ],
      "text/plain": [
       "<Angle [0.00512667] deg>"
      ]
     },
     "execution_count": 20,
     "metadata": {},
     "output_type": "execute_result"
    }
   ],
   "source": [
    "# taken from Roman's ephemerides 2022-09-30\n",
    "ra_pred, dec_pred = 4.885296234580493,-0.714489354518262\n",
    "deviation_from_single(ra_pred, dec_pred, '2022-09-30 23:30:00', mpc_id='JIX', id_type='id')"
   ]
  },
  {
   "cell_type": "markdown",
   "metadata": {},
   "source": [
    "### Note\n",
    "\n",
    "1. William found however 4 new objects in the exposures during the observation (unrelated to what we sent). These observations were sent to the MPC.\n",
    "2. This object was also observed at OHP, and confirmed Sinope."
   ]
  },
  {
   "cell_type": "markdown",
   "metadata": {},
   "source": [
    "## FF2023aaaaamc/FF2022aaaaawo/57529\n",
    "\n",
    "This one was followed up during the LCOGT campaign (observation date on 2022/10/01). William reported the following follow-up observations\n",
    "\n",
    "```\n",
    "d4919         C2022 10  1.04864 21 37 38.99 -05 26 39.1          19.1 r      W87\n",
    "d4919         C2022 10  1.05162 21 37 38.96 -05 26 39.6          18.5 r      W87\n",
    "d4919         C2022 10  1.05459 21 37 38.88 -05 26 40.6          18.7 r      W87\n",
    "d4919         C2022 10  1.05755 21 37 38.79 -05 26 41.2          19.5 r      W87\n",
    "d4919         C2022 10  1.06052 21 37 38.82 -05 26 41.6          19.7 r      W87\n",
    "```\n",
    "\n",
    "with the comment `connu`, and the following asteroid associations:\n",
    "\n",
    "```\n",
    "(394919) 2008 WN27       21 37 38.9 -05 26 39  21.4   0.0W   0.0N     7-    10-   10o   \n",
    "```\n",
    "\n",
    "So we have 1 object nearby to check. We will compute the distance between the object found and the ZTF observations (association in the past), at the time of the ZTF observations to see if this candidate object is still relevant:"
   ]
  },
  {
   "cell_type": "code",
   "execution_count": 21,
   "metadata": {},
   "outputs": [
    {
     "name": "stdout",
     "output_type": "stream",
     "text": [
      "[0d00m05.2941s]\n"
     ]
    },
    {
     "data": {
      "text/latex": [
       "[$4^\\circ21{}^\\prime18.0952{}^{\\prime\\prime}$\n",
       " $4^\\circ21{}^\\prime05.1375{}^{\\prime\\prime}$\n",
       " $4^\\circ11{}^\\prime43.1921{}^{\\prime\\prime}$\n",
       " $4^\\circ01{}^\\prime49.7397{}^{\\prime\\prime}$\n",
       " $4^\\circ01{}^\\prime34.0599{}^{\\prime\\prime}$\n",
       " $3^\\circ42{}^\\prime07.7565{}^{\\prime\\prime}$]"
      ],
      "text/plain": [
       "<Angle [4.35502646, 4.35142709, 4.19533114, 4.03048324, 4.02612775,\n",
       "        3.70215457] deg>"
      ]
     },
     "execution_count": 21,
     "metadata": {},
     "output_type": "execute_result"
    }
   ],
   "source": [
    "print(deviation_from_single('21h37m38.82s', '-05d26m41.6s', '2022-10-01 01:00:00', mpc_id=394919))\n",
    "\n",
    "\n",
    "compute_sep_from_ztf(traj, 'FF2023aaaaamc', 394919)"
   ]
  },
  {
   "cell_type": "markdown",
   "metadata": {},
   "source": [
    "### Conclusion\n",
    "\n",
    "This object has no counterpart."
   ]
  },
  {
   "cell_type": "markdown",
   "metadata": {},
   "source": [
    "## FF2023aaaaamd/FF2022aaaaawp/57438\n",
    "\n",
    "This one was followed up during the LCOGT campaign (observation date on 2022/10/01). William reported the following follow-up observations\n",
    "\n",
    "```\n",
    "a3563         C2022 10  1.07493 00 10 16.70 +00 25 00.9          19.8 r      W85\n",
    "a3563         C2022 10  1.07790 00 10 16.53 +00 25 00.5          19.7 r      W85\n",
    "a3563         C2022 10  1.08087 00 10 16.36 +00 24 59.9          19.8 r      W85\n",
    "a3563         C2022 10  1.08385 00 10 16.16 +00 24 59.4          19.8 r      W85\n",
    "a3563         C2022 10  1.08682 00 10 15.98 +00 24 58.9          19.6 r      W85\n",
    "a3563         C2022 10  1.08979 00 10 15.80 +00 24 58.5          19.6 r      W85\n",
    "(363563) 2003 YW27       00 10 16.8 +00 25 01  19.9   0.0E   0.0N    38-     6-    9o  \n",
    "\n",
    "h5953         C2022 10  1.07493 00 10 19.76 +00 19 09.4          20.9 r      W85\n",
    "h5953         C2022 10  1.08682 00 10 19.19 +00 19 05.9          21.2 r      W85\n",
    "h5953         C2022 10  1.08979 00 10 19.06 +00 19 04.9          20.2 r      W85\n",
    "(435953) 2009 DM20       00 10 19.8 +00 19 10  21.3   0.0E   0.0N    29-    13-    8o  \n",
    "\n",
    "connus:\n",
    "\n",
    "X9694         C2022 10  1.07493 00 10 11.44 +00 12 27.8          17.1 r      W85\n",
    "X9694         C2022 10  1.07790 00 10 11.29 +00 12 27.5          16.9 r      W85\n",
    "X9694         C2022 10  1.08087 00 10 11.13 +00 12 27.2          17.2 r      W85\n",
    "X9694         C2022 10  1.08385 00 10 10.96 +00 12 26.4          17.3 r      W85\n",
    "X9694         C2022 10  1.08682 00 10 10.80 +00 12 25.1          17.1 r      W85\n",
    "X9694         C2022 10  1.08979 00 10 10.63 +00 12 23.9          17.1 r      W85\n",
    "(339694) 2005 QU186      00 10 11.5 +00 12 32  19.6   0.0E   0.1N    34-    17-   10o  \n",
    "\n",
    "52703         C2022 10  1.07493 00 09 50.41 +00 24 11.4          18.9 r      W85\n",
    "52703         C2022 10  1.07790 00 09 50.28 +00 24 10.5          18.9 r      W85\n",
    "52703         C2022 10  1.08087 00 09 50.14 +00 24 09.7          19.0 r      W85\n",
    "52703         C2022 10  1.08385 00 09 49.99 +00 24 08.8          19.0 r      W85\n",
    "52703         C2022 10  1.08682 00 09 49.87 +00 24 08.0          19.0 r      W85\n",
    "52703         C2022 10  1.08979 00 09 49.73 +00 24 07.2          19.0 r      W85\n",
    " (52703) 1998 FW72       00 09 50.5 +00 24 12  19.1   0.0E   0.0N    28-    11-   21o \n",
    "\n",
    "     K15Bj1H  C2022 10  1.08087 00 08 46.48 +00 30 36.1          20.7 r      W85\n",
    "     K15Bj1H  C2022 10  1.08682 00 08 46.16 +00 30 34.2          21.3 r      W85\n",
    "     K15Bj1H  C2022 10  1.08979 00 08 45.99 +00 30 33.7          20.8 r      W85\n",
    "         2015 BH451      00 08 46.5 +00 30 36  20.6   0.0E   0.0S    34-     9-    7o \n",
    "```\n",
    "\n",
    "So we have 1 object nearby to check. We will compute the distance between the object found and the ZTF observations (association in the past), at the time of the ZTF observations to see if this candidate object is still relevant:"
   ]
  },
  {
   "cell_type": "code",
   "execution_count": 22,
   "metadata": {},
   "outputs": [
    {
     "name": "stdout",
     "output_type": "stream",
     "text": [
      "[0d00m06.0254s]\n"
     ]
    },
    {
     "data": {
      "text/latex": [
       "[$3^\\circ35{}^\\prime35.1981{}^{\\prime\\prime}$\n",
       " $3^\\circ34{}^\\prime11.7457{}^{\\prime\\prime}$\n",
       " $3^\\circ31{}^\\prime58.4122{}^{\\prime\\prime}$\n",
       " $3^\\circ31{}^\\prime55.9196{}^{\\prime\\prime}$\n",
       " $3^\\circ22{}^\\prime16.1722{}^{\\prime\\prime}$\n",
       " $3^\\circ22{}^\\prime03.9909{}^{\\prime\\prime}$]"
      ],
      "text/plain": [
       "<Angle [3.59311059, 3.56992936, 3.53289229, 3.53219989, 3.37115893,\n",
       "        3.36777524] deg>"
      ]
     },
     "execution_count": 22,
     "metadata": {},
     "output_type": "execute_result"
    }
   ],
   "source": [
    "print(deviation_from_single('00h10m15.80s', '+00d24m58.5s', '2022-10-01 02:00:00', mpc_id=363563))\n",
    "\n",
    "\n",
    "compute_sep_from_ztf(traj, 'FF2023aaaaamd', 363563)"
   ]
  },
  {
   "cell_type": "code",
   "execution_count": 23,
   "metadata": {},
   "outputs": [
    {
     "name": "stdout",
     "output_type": "stream",
     "text": [
      "[0d00m04.8547s]\n"
     ]
    },
    {
     "data": {
      "text/latex": [
       "[$2^\\circ06{}^\\prime24.2539{}^{\\prime\\prime}$\n",
       " $2^\\circ07{}^\\prime56.7437{}^{\\prime\\prime}$\n",
       " $2^\\circ08{}^\\prime42.8223{}^{\\prime\\prime}$\n",
       " $2^\\circ08{}^\\prime42.7486{}^{\\prime\\prime}$\n",
       " $2^\\circ07{}^\\prime28.5481{}^{\\prime\\prime}$\n",
       " $2^\\circ07{}^\\prime24.6782{}^{\\prime\\prime}$]"
      ],
      "text/plain": [
       "<Angle [2.1067372 , 2.1324288 , 2.14522842, 2.14520794, 2.12459669,\n",
       "        2.12352174] deg>"
      ]
     },
     "execution_count": 23,
     "metadata": {},
     "output_type": "execute_result"
    }
   ],
   "source": [
    "print(deviation_from_single('00h10m19.06s', '+00d19m04.9s', '2022-10-01 02:00:00', mpc_id=435953))\n",
    "\n",
    "\n",
    "compute_sep_from_ztf(traj, 'FF2023aaaaamd', 435953)"
   ]
  },
  {
   "cell_type": "code",
   "execution_count": 24,
   "metadata": {},
   "outputs": [
    {
     "name": "stdout",
     "output_type": "stream",
     "text": [
      "[0d00m06.6096s]\n"
     ]
    },
    {
     "data": {
      "text/latex": [
       "[$3^\\circ17{}^\\prime59.7578{}^{\\prime\\prime}$\n",
       " $3^\\circ21{}^\\prime14.6255{}^{\\prime\\prime}$\n",
       " $3^\\circ22{}^\\prime46.7328{}^{\\prime\\prime}$\n",
       " $3^\\circ22{}^\\prime46.4722{}^{\\prime\\prime}$\n",
       " $3^\\circ19{}^\\prime37.5844{}^{\\prime\\prime}$\n",
       " $3^\\circ19{}^\\prime28.3844{}^{\\prime\\prime}$]"
      ],
      "text/plain": [
       "<Angle [3.29993274, 3.35406265, 3.37964799, 3.37957562, 3.32710677,\n",
       "        3.32455122] deg>"
      ]
     },
     "execution_count": 24,
     "metadata": {},
     "output_type": "execute_result"
    }
   ],
   "source": [
    "print(deviation_from_single('00h10m10.63s', '+00d12m23.9s', '2022-10-01 02:00:00', mpc_id=339694))\n",
    "\n",
    "\n",
    "compute_sep_from_ztf(traj, 'FF2023aaaaamd', 339694)"
   ]
  },
  {
   "cell_type": "code",
   "execution_count": 25,
   "metadata": {},
   "outputs": [
    {
     "name": "stdout",
     "output_type": "stream",
     "text": [
      "[0d00m04.8389s]\n"
     ]
    },
    {
     "data": {
      "text/latex": [
       "[$1^\\circ55{}^\\prime19.1748{}^{\\prime\\prime}$\n",
       " $1^\\circ55{}^\\prime43.9685{}^{\\prime\\prime}$\n",
       " $1^\\circ55{}^\\prime35.8779{}^{\\prime\\prime}$\n",
       " $1^\\circ55{}^\\prime35.287{}^{\\prime\\prime}$\n",
       " $1^\\circ52{}^\\prime54.3601{}^{\\prime\\prime}$\n",
       " $1^\\circ52{}^\\prime49.963{}^{\\prime\\prime}$]"
      ],
      "text/plain": [
       "<Angle [1.92199301, 1.92888014, 1.92663274, 1.9264686 , 1.88176669,\n",
       "        1.88054528] deg>"
      ]
     },
     "execution_count": 25,
     "metadata": {},
     "output_type": "execute_result"
    }
   ],
   "source": [
    "print(deviation_from_single('00h09m49.73s', '+00d24m07.2s', '2022-10-01 02:00:00', mpc_id=52703))\n",
    "\n",
    "\n",
    "compute_sep_from_ztf(traj, 'FF2023aaaaamd', 52703)"
   ]
  },
  {
   "cell_type": "code",
   "execution_count": 26,
   "metadata": {},
   "outputs": [
    {
     "name": "stdout",
     "output_type": "stream",
     "text": [
      "[0d00m05.5447s]\n"
     ]
    },
    {
     "data": {
      "text/latex": [
       "[$2^\\circ04{}^\\prime26.1202{}^{\\prime\\prime}$\n",
       " $2^\\circ07{}^\\prime02.7421{}^{\\prime\\prime}$\n",
       " $2^\\circ08{}^\\prime42.6421{}^{\\prime\\prime}$\n",
       " $2^\\circ08{}^\\prime42.9507{}^{\\prime\\prime}$\n",
       " $2^\\circ08{}^\\prime52.5552{}^{\\prime\\prime}$\n",
       " $2^\\circ08{}^\\prime48.7123{}^{\\prime\\prime}$]"
      ],
      "text/plain": [
       "<Angle [2.07392227, 2.11742836, 2.14517836, 2.14526408, 2.14793199,\n",
       "        2.14686452] deg>"
      ]
     },
     "execution_count": 26,
     "metadata": {},
     "output_type": "execute_result"
    }
   ],
   "source": [
    "print(deviation_from_single('00h08m45.99s', '+00d30m33.7s', '2022-10-01 02:00:00', mpc_id='2015 BH451'))\n",
    "\n",
    "\n",
    "compute_sep_from_ztf(traj, 'FF2023aaaaamd', '2015 BH451')"
   ]
  },
  {
   "cell_type": "markdown",
   "metadata": {},
   "source": [
    "### Conclusion\n",
    "\n",
    "No counterpart."
   ]
  },
  {
   "cell_type": "markdown",
   "metadata": {},
   "source": [
    "## Check\n",
    "\n",
    "Check on known asteroid that our function returns small deviations"
   ]
  },
  {
   "cell_type": "code",
   "execution_count": 27,
   "metadata": {},
   "outputs": [],
   "source": [
    "skybot = pd.read_parquet('results_analysis/skybot_result.parquet')"
   ]
  },
  {
   "cell_type": "code",
   "execution_count": 28,
   "metadata": {},
   "outputs": [
    {
     "name": "stdout",
     "output_type": "stream",
     "text": [
      "FF2023aaaaaaz 2001 QX335\n",
      "deviation:  [0d00m00.2952s 0d00m00.2978s 0d00m00.1079s 0d00m00.1808s 0d00m00.093s\n",
      " 0d00m00.1783s 0d00m00.2773s]\n",
      "FF2023aaaaagl 1996 AS13\n",
      "deviation:  [0d00m00.3905s 0d00m00.3271s 0d00m00.3164s 0d00m00.2184s 0d00m00.1103s\n",
      " 0d00m00.264s]\n",
      "FF2023aaaaabn 2016 AN313\n",
      "deviation:  [0d00m00.2528s 0d00m00.0811s 0d00m00.1652s 0d00m00.3358s 0d00m00.3924s\n",
      " 0d05m57.083s]\n",
      "FF2023aaaaajl 2000 SJ156\n",
      "deviation:  [0d00m00.0953s 0d00m00.0533s 0d00m00.2293s 0d00m00.3674s 0d07m56.0692s\n",
      " 0d07m08.4797s 0d07m07.5489s]\n",
      "FF2023aaaaafq 2020 TB24\n",
      "deviation:  [0d00m00.3732s 0d00m00.3119s 0d00m00.1888s 0d00m00.1737s 0d00m00.1439s\n",
      " 0d00m00.3017s]\n",
      "FF2023aaaaaaf 2019 RV4\n",
      "deviation:  [0d00m00.139s 0d00m00.1781s 0d00m00.1996s 0d00m00.1684s 0d00m00.1344s\n",
      " 0d00m00.2439s]\n",
      "FF2023aaaaaaq 2013 SA105\n",
      "deviation:  [0d00m00.2182s 0d00m00.3094s 0d00m00.1436s 0d00m00.1778s 0d00m00.0804s\n",
      " 0d36m23.8669s]\n",
      "FF2023aaaaafw 2006 UD221\n",
      "deviation:  [0d00m00.2013s 0d00m00.2712s 0d00m00.4599s 0d00m00.2606s 0d00m00.1821s\n",
      " 0d00m00.1915s]\n",
      "FF2023aaaaaci 2007 TY487\n",
      "deviation:  [0d00m00.2765s 0d00m00.2353s 0d00m00.2806s 0d00m00.209s 0d00m00.2118s\n",
      " 0d00m00.3044s 0d00m00.41s]\n",
      "FF2023aaaaafz 2017 CJ41\n",
      "deviation:  [0d00m00.2254s 0d00m00.324s 0d00m00.1516s 0d00m00.2959s 0d00m00.3356s\n",
      " 0d00m00.1262s]\n"
     ]
    }
   ],
   "source": [
    "for index, i in enumerate(skybot.head(40)['d:candid']):\n",
    "    if not traj[traj['candid'] == i].empty:\n",
    "        id_ = traj[traj['candid'] == i]['ssoCandId'].values[0]\n",
    "        sky_name = skybot['Ast_Name'].values[index]\n",
    "        if sky_name != 'null':\n",
    "            print(id_, sky_name)\n",
    "            print('deviation: ', compute_sep_from_ztf(traj, id_, str(sky_name)))"
   ]
  },
  {
   "cell_type": "markdown",
   "metadata": {},
   "source": [
    "## Notes\n",
    "\n",
    "Telescope features: https://noirlab.edu/public/programs/ctio/lco/1m-telescope4/"
   ]
  },
  {
   "cell_type": "markdown",
   "metadata": {},
   "source": [
    "## First campaign"
   ]
  },
  {
   "cell_type": "code",
   "execution_count": 29,
   "metadata": {},
   "outputs": [],
   "source": [
    "traj2 = pd.read_parquet(\"~/fink_fat_out/candidates1/trajectory_orb.parquet\")\n",
    "orb2 = pd.read_parquet(\"~/fink_fat_out/candidates1/orbital.parquet\")"
   ]
  },
  {
   "cell_type": "code",
   "execution_count": 30,
   "metadata": {},
   "outputs": [
    {
     "data": {
      "text/html": [
       "<div>\n",
       "<style scoped>\n",
       "    .dataframe tbody tr th:only-of-type {\n",
       "        vertical-align: middle;\n",
       "    }\n",
       "\n",
       "    .dataframe tbody tr th {\n",
       "        vertical-align: top;\n",
       "    }\n",
       "\n",
       "    .dataframe thead th {\n",
       "        text-align: right;\n",
       "    }\n",
       "</style>\n",
       "<table border=\"1\" class=\"dataframe\">\n",
       "  <thead>\n",
       "    <tr style=\"text-align: right;\">\n",
       "      <th></th>\n",
       "      <th>ref_epoch</th>\n",
       "      <th>a</th>\n",
       "      <th>e</th>\n",
       "      <th>i</th>\n",
       "      <th>long. node</th>\n",
       "      <th>arg. peric</th>\n",
       "      <th>mean anomaly</th>\n",
       "      <th>rms_a</th>\n",
       "      <th>rms_e</th>\n",
       "      <th>rms_i</th>\n",
       "      <th>rms_long. node</th>\n",
       "      <th>rms_arg. peric</th>\n",
       "      <th>rms_mean anomaly</th>\n",
       "      <th>chi_reduced</th>\n",
       "      <th>ssoCandId</th>\n",
       "    </tr>\n",
       "  </thead>\n",
       "  <tbody>\n",
       "    <tr>\n",
       "      <th>0</th>\n",
       "      <td>2.459357e+06</td>\n",
       "      <td>3.055472</td>\n",
       "      <td>0.225826</td>\n",
       "      <td>16.678505</td>\n",
       "      <td>36.265627</td>\n",
       "      <td>162.942721</td>\n",
       "      <td>15.478685</td>\n",
       "      <td>0.024072</td>\n",
       "      <td>0.003458</td>\n",
       "      <td>0.371141</td>\n",
       "      <td>0.014758</td>\n",
       "      <td>4.76627</td>\n",
       "      <td>2.84111</td>\n",
       "      <td>2.34</td>\n",
       "      <td>FF2022aaaaamr</td>\n",
       "    </tr>\n",
       "  </tbody>\n",
       "</table>\n",
       "</div>"
      ],
      "text/plain": [
       "      ref_epoch         a         e          i  long. node  arg. peric  \\\n",
       "0  2.459357e+06  3.055472  0.225826  16.678505   36.265627  162.942721   \n",
       "\n",
       "   mean anomaly     rms_a     rms_e     rms_i  rms_long. node  rms_arg. peric  \\\n",
       "0     15.478685  0.024072  0.003458  0.371141        0.014758         4.76627   \n",
       "\n",
       "   rms_mean anomaly  chi_reduced      ssoCandId  \n",
       "0           2.84111         2.34  FF2022aaaaamr  "
      ]
     },
     "execution_count": 30,
     "metadata": {},
     "output_type": "execute_result"
    }
   ],
   "source": [
    "orb2[orb2['ssoCandId'] == 'FF2022aaaaamr']"
   ]
  },
  {
   "cell_type": "code",
   "execution_count": 31,
   "metadata": {},
   "outputs": [
    {
     "name": "stderr",
     "output_type": "stream",
     "text": [
      "/opt/Anaconda3-2020.02/lib/python3.7/site-packages/astropy/table/table.py:3487: UserWarning: dropping mask in Quantity column 'surfbright': masked Quantity not supported\n",
      "  \"masked Quantity not supported\".format(col.info.name))\n",
      "/opt/Anaconda3-2020.02/lib/python3.7/site-packages/astropy/table/table.py:3487: UserWarning: dropping mask in Quantity column 'illum_defect': masked Quantity not supported\n",
      "  \"masked Quantity not supported\".format(col.info.name))\n",
      "/opt/Anaconda3-2020.02/lib/python3.7/site-packages/astropy/table/table.py:3487: UserWarning: dropping mask in Quantity column 'ang_width': masked Quantity not supported\n",
      "  \"masked Quantity not supported\".format(col.info.name))\n",
      "/opt/Anaconda3-2020.02/lib/python3.7/site-packages/astropy/table/table.py:3487: UserWarning: dropping mask in Quantity column 'PDObsLon': masked Quantity not supported\n",
      "  \"masked Quantity not supported\".format(col.info.name))\n",
      "/opt/Anaconda3-2020.02/lib/python3.7/site-packages/astropy/table/table.py:3487: UserWarning: dropping mask in Quantity column 'PDObsLat': masked Quantity not supported\n",
      "  \"masked Quantity not supported\".format(col.info.name))\n",
      "/opt/Anaconda3-2020.02/lib/python3.7/site-packages/astropy/table/table.py:3487: UserWarning: dropping mask in Quantity column 'PDSunLon': masked Quantity not supported\n",
      "  \"masked Quantity not supported\".format(col.info.name))\n",
      "/opt/Anaconda3-2020.02/lib/python3.7/site-packages/astropy/table/table.py:3487: UserWarning: dropping mask in Quantity column 'PDSunLat': masked Quantity not supported\n",
      "  \"masked Quantity not supported\".format(col.info.name))\n",
      "/opt/Anaconda3-2020.02/lib/python3.7/site-packages/astropy/table/table.py:3487: UserWarning: dropping mask in Quantity column 'NPole_ang': masked Quantity not supported\n",
      "  \"masked Quantity not supported\".format(col.info.name))\n",
      "/opt/Anaconda3-2020.02/lib/python3.7/site-packages/astropy/table/table.py:3487: UserWarning: dropping mask in Quantity column 'NPole_dist': masked Quantity not supported\n",
      "  \"masked Quantity not supported\".format(col.info.name))\n",
      "/opt/Anaconda3-2020.02/lib/python3.7/site-packages/astropy/table/table.py:3487: UserWarning: dropping mask in Quantity column 'NPole_RA': masked Quantity not supported\n",
      "  \"masked Quantity not supported\".format(col.info.name))\n",
      "/opt/Anaconda3-2020.02/lib/python3.7/site-packages/astropy/table/table.py:3487: UserWarning: dropping mask in Quantity column 'NPole_DEC': masked Quantity not supported\n",
      "  \"masked Quantity not supported\".format(col.info.name))\n"
     ]
    },
    {
     "data": {
      "text/latex": [
       "[$0^\\circ00{}^\\prime00.0631{}^{\\prime\\prime}$\n",
       " $0^\\circ00{}^\\prime00.1582{}^{\\prime\\prime}$\n",
       " $0^\\circ00{}^\\prime00.1301{}^{\\prime\\prime}$\n",
       " $0^\\circ00{}^\\prime00.2089{}^{\\prime\\prime}$\n",
       " $0^\\circ00{}^\\prime00.2107{}^{\\prime\\prime}$\n",
       " $0^\\circ00{}^\\prime00.337{}^{\\prime\\prime}$]"
      ],
      "text/plain": [
       "<Angle [1.75329878e-05, 4.39543606e-05, 3.61513454e-05, 5.80387739e-05,\n",
       "        5.85307567e-05, 9.36047204e-05] deg>"
      ]
     },
     "execution_count": 31,
     "metadata": {},
     "output_type": "execute_result"
    }
   ],
   "source": [
    "compute_sep_from_ztf(traj2, 'FF2022aaaaamr', 525570)"
   ]
  },
  {
   "cell_type": "code",
   "execution_count": 32,
   "metadata": {},
   "outputs": [
    {
     "data": {
      "text/latex": [
       "[$0^\\circ08{}^\\prime55.9745{}^{\\prime\\prime}$]"
      ],
      "text/plain": [
       "<Angle [0.14888182] deg>"
      ]
     },
     "execution_count": 32,
     "metadata": {},
     "output_type": "execute_result"
    }
   ],
   "source": [
    "# taken from Roman's ephemerides 2022-07-05\n",
    "ra_pred, dec_pred = 340.32380967258354,-31.769628673858765\n",
    "deviation_from_single(ra_pred, dec_pred, '2022-07-05 12:00:00', mpc_id=525570)"
   ]
  },
  {
   "cell_type": "code",
   "execution_count": null,
   "metadata": {},
   "outputs": [],
   "source": []
  }
 ],
 "metadata": {
  "hide_input": false,
  "kernelspec": {
   "display_name": "Python 3",
   "language": "python",
   "name": "python3"
  },
  "language_info": {
   "codemirror_mode": {
    "name": "ipython",
    "version": 3
   },
   "file_extension": ".py",
   "mimetype": "text/x-python",
   "name": "python",
   "nbconvert_exporter": "python",
   "pygments_lexer": "ipython3",
   "version": "3.7.6"
  }
 },
 "nbformat": 4,
 "nbformat_minor": 4
}
