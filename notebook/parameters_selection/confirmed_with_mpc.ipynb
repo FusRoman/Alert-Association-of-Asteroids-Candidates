{
 "cells": [
  {
   "cell_type": "code",
   "execution_count": 1,
   "metadata": {},
   "outputs": [],
   "source": [
    "%reload_ext autoreload\n",
    "%autoreload 2"
   ]
  },
  {
   "cell_type": "code",
   "execution_count": 2,
   "metadata": {},
   "outputs": [],
   "source": [
    "import pandas as pd\n",
    "import exploring_script as es\n",
    "import importlib\n",
    "importlib.reload(es)\n",
    "import matplotlib.pyplot as plt"
   ]
  },
  {
   "cell_type": "code",
   "execution_count": 3,
   "metadata": {},
   "outputs": [],
   "source": [
    "confirmed_sso = es.load_data([\"ssnamenr\"])"
   ]
  },
  {
   "cell_type": "code",
   "execution_count": 4,
   "metadata": {},
   "outputs": [
    {
     "data": {
      "text/plain": [
       "517611"
      ]
     },
     "execution_count": 4,
     "metadata": {},
     "output_type": "execute_result"
    }
   ],
   "source": [
    "len(confirmed_sso[\"ssnamenr\"].unique())"
   ]
  },
  {
   "cell_type": "code",
   "execution_count": 5,
   "metadata": {},
   "outputs": [],
   "source": [
    "mpc_ast_data = pd.read_parquet(\n",
    "    \"../data/MPC_Database/mpcorb_extended.parquet\",\n",
    "    columns=[\"Number\", \"Name\", \"Principal_desig\", \"Other_desigs\", \"a\", \"e\", \"i\", \"Node\", \"Peri\", \"M\", \"Epoch\", \"Orbit_type\"]\n",
    ")\n",
    "\n",
    "mpc_comet_data = pd.read_parquet(\"../data/MPC_Database/cometels.parquet\")"
   ]
  },
  {
   "cell_type": "code",
   "execution_count": 39,
   "metadata": {},
   "outputs": [
    {
     "name": "stdout",
     "output_type": "stream",
     "text": [
      "436566\n",
      "0\n",
      "71501\n",
      "429\n"
     ]
    }
   ],
   "source": [
    "mpc_in_fink, fink_not_in_mpc, mpc_not_in_fink = es.cross_match_fink_mpc(confirmed_sso, mpc_ast_data)"
   ]
  },
  {
   "cell_type": "code",
   "execution_count": 17,
   "metadata": {},
   "outputs": [
    {
     "data": {
      "text/plain": [
       "(1263651, 680415)"
      ]
     },
     "execution_count": 17,
     "metadata": {},
     "output_type": "execute_result"
    }
   ],
   "source": [
    "len(mpc_ast_data), len(mpc_in_fink) + len(mpc_not_in_fink.drop_duplicates(\"Number\"))"
   ]
  },
  {
   "cell_type": "code",
   "execution_count": 140,
   "metadata": {},
   "outputs": [],
   "source": [
    "t1 = mpc_ast_data[\"Number\"].str[1:-1].isin(confirmed_sso[\"ssnamenr\"].unique())\n",
    "t2 = mpc_ast_data[\"Principal_desig\"].str.replace(\" \", \"\").isin(confirmed_sso[\"ssnamenr\"].unique())\n",
    "c = mpc_ast_data[t1 | t2]\n",
    "d = mpc_ast_data[~t1 & ~t2]"
   ]
  },
  {
   "cell_type": "code",
   "execution_count": 141,
   "metadata": {},
   "outputs": [
    {
     "data": {
      "text/plain": [
       "(504129, 759522, 1263651, 1263651)"
      ]
     },
     "execution_count": 141,
     "metadata": {},
     "output_type": "execute_result"
    }
   ],
   "source": [
    "len(c), len(d), len(c) + len(d), len(mpc_ast_data)"
   ]
  },
  {
   "cell_type": "code",
   "execution_count": 142,
   "metadata": {},
   "outputs": [],
   "source": [
    "a11 = pd.concat([c, d]).reset_index(drop=True)"
   ]
  },
  {
   "cell_type": "code",
   "execution_count": 200,
   "metadata": {},
   "outputs": [],
   "source": [
    "mpc_explode = mpc_ast_data.explode(\"Other_desigs\")\n",
    "mpc_explode = mpc_explode[~(mpc_explode[\"Principal_desig\"] == mpc_explode[\"Other_desigs\"])]\n",
    "t1 = mpc_explode[\"Number\"].str[1:-1].isin(confirmed_sso[\"ssnamenr\"].unique())\n",
    "t2 = mpc_explode[\"Principal_desig\"].str.replace(\" \", \"\").isin(confirmed_sso[\"ssnamenr\"].unique())\n",
    "t3 = mpc_explode[\"Name\"].str.replace(\" \", \"\").isin(confirmed_sso[\"ssnamenr\"].unique())\n",
    "t4 = mpc_explode[\"Other_desigs\"].str.replace(\" \", \"\").isin(confirmed_sso[\"ssnamenr\"].unique())\n",
    "c = mpc_explode[t1 | t2 | t3 | t4]\n",
    "d = mpc_explode[~(t1 | t2 | t3 | t4)]"
   ]
  },
  {
   "cell_type": "code",
   "execution_count": 195,
   "metadata": {},
   "outputs": [
    {
     "data": {
      "text/plain": [
       "(576022, 430, 576452)"
      ]
     },
     "execution_count": 195,
     "metadata": {},
     "output_type": "execute_result"
    }
   ],
   "source": [
    "len(mpc_explode[t1 | t2 | t3]), len(mpc_explode[t4]), len(mpc_explode[t1 | t2 | t3]) + len(mpc_explode[t4])"
   ]
  },
  {
   "cell_type": "code",
   "execution_count": 196,
   "metadata": {},
   "outputs": [
    {
     "data": {
      "text/plain": [
       "504559"
      ]
     },
     "execution_count": 196,
     "metadata": {},
     "output_type": "execute_result"
    }
   ],
   "source": [
    "len(mpc_explode[t1 | t2 | t3].drop_duplicates(\"Principal_desig\")) + len(mpc_explode[t4].drop_duplicates(\"Principal_desig\"))"
   ]
  },
  {
   "cell_type": "code",
   "execution_count": 197,
   "metadata": {},
   "outputs": [
    {
     "data": {
      "text/plain": [
       "759094"
      ]
     },
     "execution_count": 197,
     "metadata": {},
     "output_type": "execute_result"
    }
   ],
   "source": [
    "1263651 - 504557"
   ]
  },
  {
   "cell_type": "code",
   "execution_count": 198,
   "metadata": {},
   "outputs": [
    {
     "data": {
      "text/plain": [
       "759092"
      ]
     },
     "execution_count": 198,
     "metadata": {},
     "output_type": "execute_result"
    }
   ],
   "source": [
    "len(mpc_explode[~(t1 | t2 | t3)].drop_duplicates(\"Principal_desig\")) - len(mpc_explode[t4].drop_duplicates(\"Principal_desig\"))"
   ]
  },
  {
   "cell_type": "code",
   "execution_count": 199,
   "metadata": {},
   "outputs": [
    {
     "data": {
      "text/plain": [
       "1264507"
      ]
     },
     "execution_count": 199,
     "metadata": {},
     "output_type": "execute_result"
    }
   ],
   "source": [
    "504557 + 759950"
   ]
  },
  {
   "cell_type": "code",
   "execution_count": 172,
   "metadata": {},
   "outputs": [
    {
     "data": {
      "text/plain": [
       "(504455, 759228)"
      ]
     },
     "execution_count": 172,
     "metadata": {},
     "output_type": "execute_result"
    }
   ],
   "source": [
    "len(c.drop_duplicates(\"Principal_desig\")), len(d.drop_duplicates(\"Principal_desig\"))"
   ]
  },
  {
   "cell_type": "code",
   "execution_count": 173,
   "metadata": {},
   "outputs": [
    {
     "data": {
      "text/plain": [
       "(1263683, 1263651)"
      ]
     },
     "execution_count": 173,
     "metadata": {},
     "output_type": "execute_result"
    }
   ],
   "source": [
    "len(c.drop_duplicates(\"Principal_desig\")) + len(d.drop_duplicates(\"Principal_desig\")), len(mpc_ast_data)"
   ]
  },
  {
   "cell_type": "code",
   "execution_count": 61,
   "metadata": {},
   "outputs": [
    {
     "data": {
      "text/plain": [
       "<matplotlib.collections.PathCollection at 0x7f1aa7d41370>"
      ]
     },
     "execution_count": 61,
     "metadata": {},
     "output_type": "execute_result"
    },
    {
     "data": {
      "image/png": "[encoded data removed]",
      "text/plain": [
       "<Figure size 1440x720 with 1 Axes>"
      ]
     },
     "metadata": {
      "needs_background": "light"
     },
     "output_type": "display_data"
    }
   ],
   "source": [
    "fig = plt.figure(figsize=(20, 10))\n",
    "plt.scatter(mpc_in_fink[\"a\"], mpc_in_fink[\"e\"])"
   ]
  },
  {
   "cell_type": "code",
   "execution_count": 62,
   "metadata": {},
   "outputs": [
    {
     "data": {
      "text/plain": [
       "<matplotlib.collections.PathCollection at 0x7f1aa3135c70>"
      ]
     },
     "execution_count": 62,
     "metadata": {},
     "output_type": "execute_result"
    },
    {
     "data": {
      "image/png": "[encoded data removed]",
      "text/plain": [
       "<Figure size 1440x720 with 1 Axes>"
      ]
     },
     "metadata": {
      "needs_background": "light"
     },
     "output_type": "display_data"
    }
   ],
   "source": [
    "fig = plt.figure(figsize=(20, 10))\n",
    "plt.scatter(mpc_ast_data[\"a\"], mpc_ast_data[\"e\"])"
   ]
  }
 ],
 "metadata": {
  "kernelspec": {
   "display_name": "base",
   "language": "python",
   "name": "python3"
  },
  "language_info": {
   "codemirror_mode": {
    "name": "ipython",
    "version": 3
   },
   "file_extension": ".py",
   "mimetype": "text/x-python",
   "name": "python",
   "nbconvert_exporter": "python",
   "pygments_lexer": "ipython3",
   "version": "3.9.7 (default, Sep 16 2021, 13:09:58) \n[GCC 7.5.0]"
  },
  "orig_nbformat": 4,
  "vscode": {
   "interpreter": {
    "hash": "571d7e2b472b2ad2fe7fa12de89057082d5c525dba7df0550d26c3e2b085b7b8"
   }
  }
 },
 "nbformat": 4,
 "nbformat_minor": 2
}
