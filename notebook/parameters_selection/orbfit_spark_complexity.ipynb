{
 "cells": [
  {
   "cell_type": "code",
   "execution_count": 1,
   "metadata": {},
   "outputs": [],
   "source": [
    "import numpy as np\n",
    "import pandas as pd\n",
    "import matplotlib.pyplot as plt\n",
    "\n",
    "from pyspark.sql.functions import pandas_udf\n",
    "from pyspark.sql.types import IntegerType\n",
    "import time\n",
    "from pyspark.sql import functions as F\n",
    "from fink_fat.orbit_fitting.orbfit_cluster import orbit_wrapper\n",
    "\n",
    "import matplotlib.pyplot as plt"
   ]
  },
  {
   "cell_type": "code",
   "execution_count": 2,
   "metadata": {},
   "outputs": [],
   "source": [
    "ztf_alerts = spark.read\\\n",
    ".option(\"basePath\", \"/user/julien.peloton/archive/science/\")\\\n",
    ".format(\"parquet\")\\\n",
    ".load(\n",
    "    [\n",
    "    \"/user/julien.peloton/archive/science/year=2020/month=08/\",\n",
    "    \"/user/julien.peloton/archive/science/year=2020/month=09/\",\n",
    "    \"/user/julien.peloton/archive/science/year=2020/month=10/\"\n",
    "    ]\n",
    ")"
   ]
  },
  {
   "cell_type": "code",
   "execution_count": 3,
   "metadata": {},
   "outputs": [],
   "source": [
    "sso_mpc = ztf_alerts.filter(\"roid == 3\").select(\n",
    "    \"objectId\",\n",
    "    \"candidate.ra\",\n",
    "    \"candidate.dec\",\n",
    "    \"candidate.jd\",\n",
    "    \"candidate.nid\",\n",
    "    \"candidate.fid\",\n",
    "    \"candidate.magpsf\",\n",
    "    \"candidate.sigmapsf\",\n",
    "    \"candidate.candid\",\n",
    "    \"candidate.ssnamenr\"\n",
    ")"
   ]
  },
  {
   "cell_type": "code",
   "execution_count": 4,
   "metadata": {},
   "outputs": [],
   "source": [
    "sso_names = sso_mpc.select(\"ssnamenr\").distinct().collect()"
   ]
  },
  {
   "cell_type": "code",
   "execution_count": 5,
   "metadata": {},
   "outputs": [],
   "source": [
    "map_traj = {name.ssnamenr : id_traj for name, id_traj in zip(sso_names, np.arange(len(sso_names)))}"
   ]
  },
  {
   "cell_type": "code",
   "execution_count": 6,
   "metadata": {},
   "outputs": [],
   "source": [
    "@pandas_udf(IntegerType())\n",
    "def map_traj_id(ssnamenr):\n",
    "    return ssnamenr.map(map_traj)"
   ]
  },
  {
   "cell_type": "code",
   "execution_count": 7,
   "metadata": {},
   "outputs": [],
   "source": [
    "sso_mpc = sso_mpc.withColumn(\"trajectory_id\", map_traj_id(sso_mpc[\"ssnamenr\"]))"
   ]
  },
  {
   "cell_type": "code",
   "execution_count": 8,
   "metadata": {},
   "outputs": [],
   "source": [
    "sso_mpc.write.parquet(\"sso_data_for_fink_fat\")"
   ]
  },
  {
   "cell_type": "code",
   "execution_count": null,
   "metadata": {},
   "outputs": [],
   "source": []
  },
  {
   "cell_type": "code",
   "execution_count": 2,
   "metadata": {},
   "outputs": [],
   "source": [
    "sso_mpc = spark.read.parquet(\"sso_data_for_fink_fat\")"
   ]
  },
  {
   "cell_type": "code",
   "execution_count": 3,
   "metadata": {},
   "outputs": [],
   "source": [
    "sso_mpc = sso_mpc.cache()"
   ]
  },
  {
   "cell_type": "code",
   "execution_count": 4,
   "metadata": {},
   "outputs": [
    {
     "data": {
      "text/plain": [
       "2115525"
      ]
     },
     "execution_count": 4,
     "metadata": {},
     "output_type": "execute_result"
    }
   ],
   "source": [
    "sso_mpc.count()"
   ]
  },
  {
   "cell_type": "markdown",
   "metadata": {},
   "source": [
    "## Weak scaling"
   ]
  },
  {
   "cell_type": "code",
   "execution_count": 2,
   "metadata": {},
   "outputs": [],
   "source": [
    "nb_sso_list = np.linspace(100, 10000, dtype=int)"
   ]
  },
  {
   "cell_type": "code",
   "execution_count": 3,
   "metadata": {},
   "outputs": [
    {
     "data": {
      "text/plain": [
       "array([  100,   302,   504,   706,   908,  1110,  1312,  1514,  1716,\n",
       "        1918,  2120,  2322,  2524,  2726,  2928,  3130,  3332,  3534,\n",
       "        3736,  3938,  4140,  4342,  4544,  4746,  4948,  5151,  5353,\n",
       "        5555,  5757,  5959,  6161,  6363,  6565,  6767,  6969,  7171,\n",
       "        7373,  7575,  7777,  7979,  8181,  8383,  8585,  8787,  8989,\n",
       "        9191,  9393,  9595,  9797, 10000])"
      ]
     },
     "execution_count": 3,
     "metadata": {},
     "output_type": "execute_result"
    }
   ],
   "source": [
    "nb_sso_list"
   ]
  },
  {
   "cell_type": "code",
   "execution_count": 7,
   "metadata": {},
   "outputs": [],
   "source": [
    "def compute_orbit(sso_spark_df, limit_sso):\n",
    "    t_before = time.time()\n",
    "    spark_gb = (\n",
    "        sso_spark_df.groupby(\"trajectory_id\")\n",
    "        .agg(\n",
    "            F.sort_array(\n",
    "                F.collect_list(F.struct(\"jd\", \"ra\", \"dec\", \"fid\", \"magpsf\"))\n",
    "            ).alias(\"collected_list\")\n",
    "        )\n",
    "        .withColumn(\"ra\", F.col(\"collected_list.ra\"))\n",
    "        .withColumn(\"dec\", F.col(\"collected_list.dec\"))\n",
    "        .withColumn(\"fid\", F.col(\"collected_list.fid\"))\n",
    "        .withColumn(\"magpsf\", F.col(\"collected_list.magpsf\"))\n",
    "        .withColumn(\"jd\", F.col(\"collected_list.jd\"))\n",
    "        .drop(\"collected_list\")\n",
    "    ).limit(int(limit_sso))\n",
    "    \n",
    "    max_core = int(dict(spark.sparkContext.getConf().getAll())[\"spark.cores.max\"])\n",
    "    spark_gb = spark_gb.repartition(\n",
    "        1 if int(limit_sso) // max_core == 0 else int(limit_sso) // max_core\n",
    "    )\n",
    "\n",
    "    print(\"begin compute orbital elem on spark\")\n",
    "    print(f\"nb sso: {limit_sso}\")\n",
    "    spark_column = spark_gb.withColumn(\n",
    "        \"orbital_elements\",\n",
    "        orbit_wrapper(\n",
    "            spark_gb.ra,\n",
    "            spark_gb.dec,\n",
    "            spark_gb.magpsf,\n",
    "            spark_gb.fid,\n",
    "            spark_gb.jd,\n",
    "            spark_gb.trajectory_id,\n",
    "            \"/tmp/ramdisk\",\n",
    "            n_triplets=30,\n",
    "            noise_ntrials=25,\n",
    "            prop_epoch=None,\n",
    "            verbose=3,\n",
    "        ),\n",
    "    )\n",
    "\n",
    "    orb_pdf = spark_column.toPandas()\n",
    "    \n",
    "    elapsed_time = time.time() - t_before\n",
    "    print(f\"elapsed time: {elapsed_time}\")\n",
    "    # time_taken.append(elapsed_time)"
   ]
  },
  {
   "cell_type": "code",
   "execution_count": 12,
   "metadata": {
    "collapsed": true
   },
   "outputs": [
    {
     "name": "stdout",
     "output_type": "stream",
     "text": [
      "begin compute orbital elem on spark\n",
      "nb sso: 100\n",
      "elapsed time: 98.29573202133179\n",
      "begin compute orbital elem on spark\n",
      "nb sso: 302\n",
      "elapsed time: 118.86556434631348\n",
      "begin compute orbital elem on spark\n",
      "nb sso: 504\n",
      "elapsed time: 135.13642573356628\n",
      "begin compute orbital elem on spark\n",
      "nb sso: 706\n",
      "elapsed time: 161.31443452835083\n",
      "begin compute orbital elem on spark\n",
      "nb sso: 908\n",
      "elapsed time: 191.55195331573486\n",
      "begin compute orbital elem on spark\n",
      "nb sso: 1110\n",
      "elapsed time: 229.1448109149933\n",
      "begin compute orbital elem on spark\n",
      "nb sso: 1312\n",
      "elapsed time: 253.6656563282013\n",
      "begin compute orbital elem on spark\n",
      "nb sso: 1514\n",
      "elapsed time: 261.79006242752075\n",
      "begin compute orbital elem on spark\n",
      "nb sso: 1716\n",
      "elapsed time: 287.90459418296814\n",
      "begin compute orbital elem on spark\n",
      "nb sso: 1918\n",
      "elapsed time: 303.95447039604187\n",
      "begin compute orbital elem on spark\n",
      "nb sso: 2120\n",
      "elapsed time: 341.4738574028015\n",
      "begin compute orbital elem on spark\n",
      "nb sso: 2322\n",
      "elapsed time: 378.719220161438\n",
      "begin compute orbital elem on spark\n",
      "nb sso: 2524\n",
      "elapsed time: 490.0917513370514\n",
      "begin compute orbital elem on spark\n",
      "nb sso: 2726\n",
      "elapsed time: 398.5029036998749\n",
      "begin compute orbital elem on spark\n",
      "nb sso: 2928\n",
      "elapsed time: 382.6512825489044\n",
      "begin compute orbital elem on spark\n",
      "nb sso: 3130\n",
      "elapsed time: 417.0800881385803\n",
      "begin compute orbital elem on spark\n",
      "nb sso: 3332\n",
      "elapsed time: 463.2008535861969\n",
      "begin compute orbital elem on spark\n",
      "nb sso: 3534\n",
      "elapsed time: 500.87300157546997\n",
      "begin compute orbital elem on spark\n",
      "nb sso: 3736\n",
      "elapsed time: 482.9688882827759\n",
      "begin compute orbital elem on spark\n",
      "nb sso: 3938\n",
      "elapsed time: 503.63116550445557\n",
      "begin compute orbital elem on spark\n",
      "nb sso: 4140\n",
      "elapsed time: 543.575211763382\n",
      "begin compute orbital elem on spark\n",
      "nb sso: 4342\n",
      "elapsed time: 551.0303010940552\n",
      "begin compute orbital elem on spark\n",
      "nb sso: 4544\n",
      "elapsed time: 578.9198009967804\n",
      "begin compute orbital elem on spark\n",
      "nb sso: 4746\n",
      "elapsed time: 628.6987664699554\n",
      "begin compute orbital elem on spark\n",
      "nb sso: 4948\n",
      "elapsed time: 666.3248739242554\n",
      "begin compute orbital elem on spark\n",
      "nb sso: 5151\n",
      "elapsed time: 693.0301377773285\n",
      "begin compute orbital elem on spark\n",
      "nb sso: 5353\n",
      "elapsed time: 717.8999185562134\n",
      "begin compute orbital elem on spark\n",
      "nb sso: 5555\n",
      "elapsed time: 740.6717219352722\n",
      "begin compute orbital elem on spark\n",
      "nb sso: 5757\n",
      "elapsed time: 749.2424492835999\n",
      "begin compute orbital elem on spark\n",
      "nb sso: 5959\n",
      "elapsed time: 777.3175237178802\n",
      "begin compute orbital elem on spark\n",
      "nb sso: 6161\n",
      "elapsed time: 770.1666624546051\n",
      "begin compute orbital elem on spark\n",
      "nb sso: 6363\n",
      "elapsed time: 817.7073864936829\n",
      "begin compute orbital elem on spark\n",
      "nb sso: 6565\n",
      "elapsed time: 805.515896320343\n",
      "begin compute orbital elem on spark\n",
      "nb sso: 6767\n",
      "elapsed time: 849.8269987106323\n",
      "begin compute orbital elem on spark\n",
      "nb sso: 6969\n",
      "elapsed time: 901.2736933231354\n",
      "begin compute orbital elem on spark\n",
      "nb sso: 7171\n",
      "elapsed time: 933.3050651550293\n",
      "begin compute orbital elem on spark\n",
      "nb sso: 7373\n",
      "elapsed time: 906.8821315765381\n",
      "begin compute orbital elem on spark\n",
      "nb sso: 7575\n",
      "elapsed time: 979.6723647117615\n",
      "begin compute orbital elem on spark\n",
      "nb sso: 7777\n",
      "elapsed time: 1000.191897392273\n",
      "begin compute orbital elem on spark\n",
      "nb sso: 7979\n",
      "elapsed time: 1040.9381427764893\n",
      "begin compute orbital elem on spark\n",
      "nb sso: 8181\n",
      "elapsed time: 1022.7825877666473\n",
      "begin compute orbital elem on spark\n",
      "nb sso: 8383\n",
      "elapsed time: 1079.341424703598\n",
      "begin compute orbital elem on spark\n",
      "nb sso: 8585\n",
      "elapsed time: 1086.5163760185242\n",
      "begin compute orbital elem on spark\n",
      "nb sso: 8787\n",
      "elapsed time: 1105.360223531723\n",
      "begin compute orbital elem on spark\n",
      "nb sso: 8989\n",
      "elapsed time: 1118.2614946365356\n",
      "begin compute orbital elem on spark\n",
      "nb sso: 9191\n",
      "elapsed time: 1156.971043586731\n",
      "begin compute orbital elem on spark\n",
      "nb sso: 9393\n",
      "elapsed time: 1167.8912551403046\n",
      "begin compute orbital elem on spark\n",
      "nb sso: 9595\n",
      "elapsed time: 1200.7154440879822\n",
      "begin compute orbital elem on spark\n",
      "nb sso: 9797\n",
      "elapsed time: 1210.7755892276764\n",
      "begin compute orbital elem on spark\n",
      "nb sso: 10000\n",
      "elapsed time: 1249.055584192276\n"
     ]
    }
   ],
   "source": [
    "time_taken = []\n",
    "for n_sso in nb_sso_list:\n",
    "    compute_orbit(sso_mpc, n_sso)"
   ]
  },
  {
   "cell_type": "code",
   "execution_count": 13,
   "metadata": {},
   "outputs": [
    {
     "data": {
      "image/png": "[encoded data removed]",
      "text/plain": [
       "<Figure size 432x288 with 1 Axes>"
      ]
     },
     "metadata": {
      "needs_background": "light"
     },
     "output_type": "display_data"
    }
   ],
   "source": [
    "plt.plot(nb_sso_list, time_taken)\n",
    "plt.show()"
   ]
  },
  {
   "cell_type": "code",
   "execution_count": 14,
   "metadata": {
    "collapsed": true
   },
   "outputs": [
    {
     "data": {
      "text/plain": [
       "[98.29573202133179,\n",
       " 118.86556434631348,\n",
       " 135.13642573356628,\n",
       " 161.31443452835083,\n",
       " 191.55195331573486,\n",
       " 229.1448109149933,\n",
       " 253.6656563282013,\n",
       " 261.79006242752075,\n",
       " 287.90459418296814,\n",
       " 303.95447039604187,\n",
       " 341.4738574028015,\n",
       " 378.719220161438,\n",
       " 490.0917513370514,\n",
       " 398.5029036998749,\n",
       " 382.6512825489044,\n",
       " 417.0800881385803,\n",
       " 463.2008535861969,\n",
       " 500.87300157546997,\n",
       " 482.9688882827759,\n",
       " 503.63116550445557,\n",
       " 543.575211763382,\n",
       " 551.0303010940552,\n",
       " 578.9198009967804,\n",
       " 628.6987664699554,\n",
       " 666.3248739242554,\n",
       " 693.0301377773285,\n",
       " 717.8999185562134,\n",
       " 740.6717219352722,\n",
       " 749.2424492835999,\n",
       " 777.3175237178802,\n",
       " 770.1666624546051,\n",
       " 817.7073864936829,\n",
       " 805.515896320343,\n",
       " 849.8269987106323,\n",
       " 901.2736933231354,\n",
       " 933.3050651550293,\n",
       " 906.8821315765381,\n",
       " 979.6723647117615,\n",
       " 1000.191897392273,\n",
       " 1040.9381427764893,\n",
       " 1022.7825877666473,\n",
       " 1079.341424703598,\n",
       " 1086.5163760185242,\n",
       " 1105.360223531723,\n",
       " 1118.2614946365356,\n",
       " 1156.971043586731,\n",
       " 1167.8912551403046,\n",
       " 1200.7154440879822,\n",
       " 1210.7755892276764,\n",
       " 1249.055584192276]"
      ]
     },
     "execution_count": 14,
     "metadata": {},
     "output_type": "execute_result"
    }
   ],
   "source": [
    "time_taken"
   ]
  },
  {
   "cell_type": "code",
   "execution_count": 15,
   "metadata": {
    "collapsed": true
   },
   "outputs": [
    {
     "data": {
      "text/plain": [
       "[98.29573202133179,\n",
       " 118.86556434631348,\n",
       " 135.13642573356628,\n",
       " 161.31443452835083,\n",
       " 191.55195331573486,\n",
       " 229.1448109149933,\n",
       " 253.6656563282013,\n",
       " 261.79006242752075,\n",
       " 287.90459418296814,\n",
       " 303.95447039604187,\n",
       " 341.4738574028015,\n",
       " 378.719220161438,\n",
       " 490.0917513370514,\n",
       " 398.5029036998749,\n",
       " 382.6512825489044,\n",
       " 417.0800881385803,\n",
       " 463.2008535861969,\n",
       " 500.87300157546997,\n",
       " 482.9688882827759,\n",
       " 503.63116550445557,\n",
       " 543.575211763382,\n",
       " 551.0303010940552,\n",
       " 578.9198009967804,\n",
       " 628.6987664699554,\n",
       " 666.3248739242554,\n",
       " 693.0301377773285,\n",
       " 717.8999185562134,\n",
       " 740.6717219352722,\n",
       " 749.2424492835999,\n",
       " 777.3175237178802,\n",
       " 770.1666624546051,\n",
       " 817.7073864936829,\n",
       " 805.515896320343,\n",
       " 849.8269987106323,\n",
       " 901.2736933231354,\n",
       " 933.3050651550293,\n",
       " 906.8821315765381,\n",
       " 979.6723647117615,\n",
       " 1000.191897392273,\n",
       " 1040.9381427764893,\n",
       " 1022.7825877666473,\n",
       " 1079.341424703598,\n",
       " 1086.5163760185242,\n",
       " 1105.360223531723,\n",
       " 1118.2614946365356,\n",
       " 1156.971043586731,\n",
       " 1167.8912551403046,\n",
       " 1200.7154440879822,\n",
       " 1210.7755892276764,\n",
       " 1249.055584192276]"
      ]
     },
     "execution_count": 15,
     "metadata": {},
     "output_type": "execute_result"
    }
   ],
   "source": [
    "# save time taken \n",
    "time_taken = [98.29573202133179,\n",
    " 118.86556434631348,\n",
    " 135.13642573356628,\n",
    " 161.31443452835083,\n",
    " 191.55195331573486,\n",
    " 229.1448109149933,\n",
    " 253.6656563282013,\n",
    " 261.79006242752075,\n",
    " 287.90459418296814,\n",
    " 303.95447039604187,\n",
    " 341.4738574028015,\n",
    " 378.719220161438,\n",
    " 490.0917513370514,\n",
    " 398.5029036998749,\n",
    " 382.6512825489044,\n",
    " 417.0800881385803,\n",
    " 463.2008535861969,\n",
    " 500.87300157546997,\n",
    " 482.9688882827759,\n",
    " 503.63116550445557,\n",
    " 543.575211763382,\n",
    " 551.0303010940552,\n",
    " 578.9198009967804,\n",
    " 628.6987664699554,\n",
    " 666.3248739242554,\n",
    " 693.0301377773285,\n",
    " 717.8999185562134,\n",
    " 740.6717219352722,\n",
    " 749.2424492835999,\n",
    " 777.3175237178802,\n",
    " 770.1666624546051,\n",
    " 817.7073864936829,\n",
    " 805.515896320343,\n",
    " 849.8269987106323,\n",
    " 901.2736933231354,\n",
    " 933.3050651550293,\n",
    " 906.8821315765381,\n",
    " 979.6723647117615,\n",
    " 1000.191897392273,\n",
    " 1040.9381427764893,\n",
    " 1022.7825877666473,\n",
    " 1079.341424703598,\n",
    " 1086.5163760185242,\n",
    " 1105.360223531723,\n",
    " 1118.2614946365356,\n",
    " 1156.971043586731,\n",
    " 1167.8912551403046,\n",
    " 1200.7154440879822,\n",
    " 1210.7755892276764,\n",
    " 1249.055584192276]"
   ]
  },
  {
   "cell_type": "markdown",
   "metadata": {},
   "source": [
    "## Strong scaling"
   ]
  },
  {
   "cell_type": "code",
   "execution_count": 5,
   "metadata": {},
   "outputs": [],
   "source": [
    "nb_core = [2, 4, 8, 16, 32, 64, 128]\n",
    "nb_sso = 5000"
   ]
  },
  {
   "cell_type": "code",
   "execution_count": 8,
   "metadata": {},
   "outputs": [
    {
     "name": "stdout",
     "output_type": "stream",
     "text": [
      "begin compute orbital elem on spark\n",
      "nb sso: 5000\n",
      "elapsed time: 2252.5763251781464\n"
     ]
    }
   ],
   "source": [
    "compute_orbit(sso_mpc, nb_sso)"
   ]
  },
  {
   "cell_type": "markdown",
   "metadata": {},
   "source": [
    "## results"
   ]
  },
  {
   "cell_type": "code",
   "execution_count": 2,
   "metadata": {},
   "outputs": [],
   "source": [
    "time_taken_results = {\n",
    "    2: 5636.6594314575195,\n",
    "    4: 2252.5763251781464,\n",
    "    8: 1102.4880459308624,\n",
    "    16: 622.9926776885986,\n",
    "    32: 325.71352076530457,\n",
    "    64: 245.72408199310303,\n",
    "    128: 325.6921489238739\n",
    "}"
   ]
  },
  {
   "cell_type": "markdown",
   "metadata": {},
   "source": [
    "## Complexity Plots"
   ]
  },
  {
   "cell_type": "markdown",
   "metadata": {},
   "source": [
    "#### Orbfit spark"
   ]
  },
  {
   "cell_type": "markdown",
   "metadata": {},
   "source": [
    "# save time taken "
   ]
  },
  {
   "cell_type": "code",
   "execution_count": 3,
   "metadata": {},
   "outputs": [],
   "source": [
    "def rms(res_lsq):\n",
    "    return np.sqrt((res_lsq.fun ** 2).mean())\n",
    "\n",
    "\n",
    "nb_sso_list = np.linspace(100, 10000, dtype=int)"
   ]
  },
  {
   "cell_type": "code",
   "execution_count": 4,
   "metadata": {},
   "outputs": [],
   "source": [
    "# save time taken \n",
    "time_taken = [98.29573202133179,\n",
    " 118.86556434631348,\n",
    " 135.13642573356628,\n",
    " 161.31443452835083,\n",
    " 191.55195331573486,\n",
    " 229.1448109149933,\n",
    " 253.6656563282013,\n",
    " 261.79006242752075,\n",
    " 287.90459418296814,\n",
    " 303.95447039604187,\n",
    " 341.4738574028015,\n",
    " 378.719220161438,\n",
    " 490.0917513370514,\n",
    " 398.5029036998749,\n",
    " 382.6512825489044,\n",
    " 417.0800881385803,\n",
    " 463.2008535861969,\n",
    " 500.87300157546997,\n",
    " 482.9688882827759,\n",
    " 503.63116550445557,\n",
    " 543.575211763382,\n",
    " 551.0303010940552,\n",
    " 578.9198009967804,\n",
    " 628.6987664699554,\n",
    " 666.3248739242554,\n",
    " 693.0301377773285,\n",
    " 717.8999185562134,\n",
    " 740.6717219352722,\n",
    " 749.2424492835999,\n",
    " 777.3175237178802,\n",
    " 770.1666624546051,\n",
    " 817.7073864936829,\n",
    " 805.515896320343,\n",
    " 849.8269987106323,\n",
    " 901.2736933231354,\n",
    " 933.3050651550293,\n",
    " 906.8821315765381,\n",
    " 979.6723647117615,\n",
    " 1000.191897392273,\n",
    " 1040.9381427764893,\n",
    " 1022.7825877666473,\n",
    " 1079.341424703598,\n",
    " 1086.5163760185242,\n",
    " 1105.360223531723,\n",
    " 1118.2614946365356,\n",
    " 1156.971043586731,\n",
    " 1167.8912551403046,\n",
    " 1200.7154440879822,\n",
    " 1210.7755892276764,\n",
    " 1249.055584192276]"
   ]
  },
  {
   "cell_type": "code",
   "execution_count": 5,
   "metadata": {},
   "outputs": [],
   "source": [
    "minute_time = np.array(time_taken) / 60"
   ]
  },
  {
   "cell_type": "code",
   "execution_count": 80,
   "metadata": {},
   "outputs": [],
   "source": [
    "## fit linear\n",
    "from scipy.optimize import least_squares\n",
    "\n",
    "def f(x, t):\n",
    "    return x[0] * t + x[1]\n",
    "\n",
    "def f_log(x, t):\n",
    "    return x[0] * (np.log10(t) * t) + x[1]\n",
    "\n",
    "def f_square(x, t):\n",
    "    return x[0] * t**2 + x[1]\n",
    "\n",
    "def f_cube(x, t):\n",
    "    return x[0] * t**3 + x[1]\n",
    "\n",
    "def loss(x, t, y):\n",
    "    return f(x, t) - y\n",
    "\n",
    "def loss_log(x, t, y):\n",
    "    return f_log(x, t) - y\n",
    "\n",
    "def loss_square(x, t, y):\n",
    "    return f_square(x, t) - y\n",
    "\n",
    "def loss_cube(x, t, y):\n",
    "    return f_cube(x, t) - y\n",
    "\n",
    "x_0 = np.array([1.0, 1.0])\n",
    "\n",
    "res_lin = least_squares(loss, x_0, args=(nb_sso_list, minute_time))\n",
    "res_log = least_squares(loss_log, x_0, args=(nb_sso_list, minute_time))"
   ]
  },
  {
   "cell_type": "markdown",
   "metadata": {},
   "source": [
    "spark configuration:\n",
    "* 16 total cores\n",
    "* 2 cores/executors\n",
    "* 2GB of RAM / executors"
   ]
  },
  {
   "cell_type": "code",
   "execution_count": 81,
   "metadata": {},
   "outputs": [
    {
     "data": {
      "image/png": "[encoded data removed]",
      "text/plain": [
       "<Figure size 400x300 with 1 Axes>"
      ]
     },
     "metadata": {},
     "output_type": "display_data"
    }
   ],
   "source": [
    "plt.rcParams.update({'font.size': 8.5})\n",
    "fig = plt.figure(figsize=(4, 3))\n",
    "\n",
    "# fig.suptitle(\"Orbfit complexity, weak scaling\")\n",
    "plt.scatter(nb_sso_list, minute_time, label=\"data\", s=5)\n",
    "\n",
    "plt.plot(\n",
    "    nb_sso_list, \n",
    "    f(res_lin.x, nb_sso_list), \n",
    "    label=\"O(N), RMS={:.5f}\".format(rms(res_lin)), \n",
    "    linestyle=\"--\", \n",
    "    color=\"red\", linewidth=1\n",
    ")\n",
    "plt.plot(\n",
    "    nb_sso_list, \n",
    "    f_log(res_log.x, nb_sso_list), \n",
    "    label=\"O(NlogN), RMS={:.5f}\".format(rms(res_log)), \n",
    "    linestyle=\"--\", \n",
    "    color=\"yellow\", linewidth=1\n",
    ")\n",
    "\n",
    "plt.xlabel(\"number of solar system trajectories\")\n",
    "plt.ylabel(\"Time (minutes)\")\n",
    "plt.legend()\n",
    "plt.tight_layout()\n",
    "plt.savefig(\"orbfit_comp_weak.pgf\")\n",
    "plt.show()"
   ]
  },
  {
   "cell_type": "code",
   "execution_count": 82,
   "metadata": {},
   "outputs": [],
   "source": [
    "time_taken_results = {\n",
    "    2: 5636.6594314575195,\n",
    "    4: 2252.5763251781464,\n",
    "    8: 1102.4880459308624,\n",
    "    16: 622.9926776885986,\n",
    "    32: 325.71352076530457,\n",
    "    64: 245.72408199310303,\n",
    "    128: 325.6921489238739\n",
    "}"
   ]
  },
  {
   "cell_type": "code",
   "execution_count": 83,
   "metadata": {},
   "outputs": [],
   "source": [
    "result_strong  = np.array([[core, t_time] for core, t_time in time_taken_results.items()])"
   ]
  },
  {
   "cell_type": "markdown",
   "metadata": {},
   "source": [
    "nb alerts: 5000"
   ]
  },
  {
   "cell_type": "code",
   "execution_count": 84,
   "metadata": {},
   "outputs": [],
   "source": [
    "def f(x, t):\n",
    "    return x / t\n",
    "\n",
    "\n",
    "def loss(x, t, y):\n",
    "    return f(x, t) - y\n",
    "\n",
    "x_0 = np.array([1.0])\n",
    "\n",
    "res_lsq = least_squares(loss, x_0, args=(result_strong[:, 0], result_strong[:, 1] / 60))"
   ]
  },
  {
   "cell_type": "code",
   "execution_count": 85,
   "metadata": {},
   "outputs": [
    {
     "data": {
      "text/plain": [
       "array([178.75012511])"
      ]
     },
     "execution_count": 85,
     "metadata": {},
     "output_type": "execute_result"
    }
   ],
   "source": [
    "res_lsq.x"
   ]
  },
  {
   "cell_type": "code",
   "execution_count": 86,
   "metadata": {},
   "outputs": [
    {
     "data": {
      "text/plain": [
       "array([89.37506255, 44.68753128, 22.34376564, 11.17188282,  5.58594141,\n",
       "        2.7929707 ,  1.39648535])"
      ]
     },
     "execution_count": 86,
     "metadata": {},
     "output_type": "execute_result"
    }
   ],
   "source": [
    "f(res_lsq.x, result_strong[:, 0])"
   ]
  },
  {
   "cell_type": "code",
   "execution_count": 87,
   "metadata": {},
   "outputs": [
    {
     "data": {
      "image/png": "[encoded data removed]",
      "text/plain": [
       "<Figure size 400x300 with 1 Axes>"
      ]
     },
     "metadata": {},
     "output_type": "display_data"
    }
   ],
   "source": [
    "plt.rcParams.update({'font.size': 8.5})\n",
    "\n",
    "fig = plt.figure(figsize=(4, 3))\n",
    "\n",
    "# fig.suptitle(\"Orbfit complexity, strong scaling\")\n",
    "plt.scatter(result_strong[:, 0], result_strong[:, 1] / 60, label=\"data\", s=5)\n",
    "plt.plot(\n",
    "    result_strong[:, 0], \n",
    "    f(res_lsq.x, result_strong[:, 0]), \n",
    "    label=\"O(1/N): RMS={:.1f}\".format(rms(res_lsq)), \n",
    "    linewidth=1,\n",
    "    linestyle=\"--\", color=\"red\"\n",
    ")\n",
    "\n",
    "plt.xlabel(\"number of cores\")\n",
    "plt.ylabel(\"Time (minutes)\")\n",
    "plt.legend()\n",
    "plt.tight_layout()\n",
    "plt.savefig(\"orbfit_comp_strong.pgf\")\n",
    "plt.show()"
   ]
  },
  {
   "cell_type": "markdown",
   "metadata": {},
   "source": [
    "## fink-fat complexity"
   ]
  },
  {
   "cell_type": "code",
   "execution_count": 94,
   "metadata": {},
   "outputs": [
    {
     "data": {
      "text/plain": [
       "['../fink_fat_experiments/complexity_data/time_20_results.parquet',\n",
       " '../fink_fat_experiments/complexity_data/time_40_results.parquet',\n",
       " '../fink_fat_experiments/complexity_data/time_60_results.parquet',\n",
       " '../fink_fat_experiments/complexity_data/time_80_results.parquet',\n",
       " '../fink_fat_experiments/complexity_data/time_100_results.parquet']"
      ]
     },
     "execution_count": 94,
     "metadata": {},
     "output_type": "execute_result"
    }
   ],
   "source": [
    "percent_exp = np.array([20, 40, 60, 80, 100])\n",
    "\n",
    "data_path = [f\"../fink_fat_experiments/complexity_data/time_{x}_results.parquet\" for x in percent_exp]\n",
    "data_path"
   ]
  },
  {
   "cell_type": "code",
   "execution_count": 95,
   "metadata": {},
   "outputs": [],
   "source": [
    "## input dataset\n",
    "\n",
    "import requests\n",
    "import pandas as pd\n",
    "import io\n",
    "\n",
    "# get stats for all the year 2021\n",
    "r = requests.post(\n",
    "  'https://fink-portal.org/api/v1/statistics',\n",
    "  json={\n",
    "    'date': '2021',\n",
    "    'output-format': 'json'\n",
    "  }\n",
    ")\n",
    "\n",
    "# Format output in a DataFrame\n",
    "pdf = pd.read_json(io.BytesIO(r.content))\n",
    "stats_data = pdf[(pdf[\"key:key\"] >= \"ztf_20210101\") & (pdf[\"key:key\"] <= \"ztf_20210116\")]"
   ]
  },
  {
   "cell_type": "code",
   "execution_count": 96,
   "metadata": {},
   "outputs": [
    {
     "data": {
      "text/plain": [
       "6204.0375"
      ]
     },
     "execution_count": 96,
     "metadata": {},
     "output_type": "execute_result"
    }
   ],
   "source": [
    "stats_data[\"class:Solar System MPC\"].mean() * 0.2"
   ]
  },
  {
   "cell_type": "code",
   "execution_count": 97,
   "metadata": {},
   "outputs": [
    {
     "name": "stdout",
     "output_type": "stream",
     "text": [
      "6204.0375 alerts/day\n",
      "12408.075 alerts/day\n",
      "18612.1125 alerts/day\n",
      "24816.15 alerts/day\n",
      "31020.1875 alerts/day\n"
     ]
    }
   ],
   "source": [
    "alerts_rate_data = []\n",
    "\n",
    "for exp in percent_exp:\n",
    "    nb_alerts = stats_data[\"class:Solar System MPC\"].sum() * (exp / 100)\n",
    "    alerts_rate = nb_alerts / len(stats_data)\n",
    "    alerts_rate_data.append(alerts_rate)\n",
    "    print(f\"{alerts_rate} alerts/day\")"
   ]
  },
  {
   "cell_type": "markdown",
   "metadata": {},
   "source": [
    "#### compute time for 100 % experience"
   ]
  },
  {
   "cell_type": "code",
   "execution_count": 98,
   "metadata": {},
   "outputs": [],
   "source": [
    "assoc_time_100 = [\n",
    "    11.667613983154297,\n",
    "    21.94364857673645 + 0.33076047897338867 + 0.34174561500549316 + 0.4055042266845703 + 0.862703800201416,\n",
    "    9.108948469161987 + 0.6455700397491455 + 0.9703571796417236 + 0.9003002643585205 + 1.7832131385803223,\n",
    "    37.84625267982483 + 2.7326881885528564 + 2.301823854446411 + 1.5356886386871338 + 1.1848113536834717,\n",
    "    35.15529489517212 + 5.748280048370361 + 7.233269453048706 + 1.2046258449554443 + 1.9718427658081055,\n",
    "    39.35244536399841 + 12.719834804534912 + 12.372071743011475 + 0.9935741424560547 + 0.909109354019165,\n",
    "    63.79172873497009 + 17.224143743515015 + 10.361931085586548 + 1.4177331924438477 + 1.0574407577514648,\n",
    "    44.76765751838684 + 22.67185616493225 + 21.430789709091187 + 1.008538007736206 + 1.1352391242980957,\n",
    "    80.07587218284607 + 29.77538275718689 + 23.096110343933105 + 0.8148300647735596 + 0.6984593868255615,\n",
    "    30.797842025756836 + 19.66373300552368 + 31.03143620491028 + 0.589533805847168 + 0.43274950981140137,\n",
    "    34.40571141242981 + 26.992212533950806 + 33.81742024421692 + 0.31553101539611816 + 0.34887123107910156,\n",
    "    46.251025438308716 + 27.011802911758423+ 21.7482590675354 + 0.3081345558166504 + 0.38375353813171387,\n",
    "    44.69142270088196 + 35.87539267539978 + 37.06379723548889 + 0.27239370346069336 + 0.24348759651184082,\n",
    "    58.63583469390869 + 39.74068903923035 + 26.018784761428833 + 0.4976661205291748 + 0.44391679763793945,\n",
    "    3.677855968475342 + 11.12377142906189 + 21.98065686225891 + 0.14791393280029297 + 0.1566307544708252,\n",
    "    61.784518003463745 + 43.87820625305176 + 32.49102997779846 + 0.3582875728607178 + 0.28596997261047363\n",
    "]\n",
    "sum_assoc_100_exp = np.array(assoc_time_100).sum()"
   ]
  },
  {
   "cell_type": "code",
   "execution_count": 99,
   "metadata": {},
   "outputs": [],
   "source": [
    "orbit_time_100 = [\n",
    "    30.56755304336548,\n",
    "    32.2139527797699,\n",
    "    71.63085770606995,\n",
    "    71.44734406471252,\n",
    "    83.87157487869263,\n",
    "    132.16986227035522,\n",
    "    273.3602316379547,\n",
    "    270.6445767879486,\n",
    "    599.5720891952515,\n",
    "    453.2025315761566,\n",
    "    689.6142508983612,\n",
    "    775.2573454380035,\n",
    "    901.3925065994263,\n",
    "    1094.0364499092102,\n",
    "    410.35379910469055,\n",
    "    1588.9078919887543\n",
    "]\n",
    "sum_orbit_100_exp = np.array(orbit_time_100).sum()"
   ]
  },
  {
   "cell_type": "code",
   "execution_count": 100,
   "metadata": {},
   "outputs": [],
   "source": [
    "mean_assoc, std_assoc = [], []\n",
    "mean_orb, std_orb = [], []\n",
    "mean_ff, std_ff = [], []"
   ]
  },
  {
   "cell_type": "code",
   "execution_count": 101,
   "metadata": {},
   "outputs": [
    {
     "name": "stdout",
     "output_type": "stream",
     "text": [
      "     assoc_time  orbit_time        date\n",
      "0      3.560993    2.731735  2021-01-01\n",
      "1      4.121243    2.944577  2021-01-02\n",
      "2      4.618732    2.561774  2021-01-03\n",
      "3      6.419934    2.570922  2021-01-04\n",
      "4      8.224800    2.122533  2021-01-05\n",
      "5      8.650231   38.360929  2021-01-06\n",
      "6     11.679972   32.290651  2021-01-07\n",
      "7      9.958385   37.520520  2021-01-08\n",
      "8     14.028228   54.498358  2021-01-09\n",
      "9     14.682924   46.761980  2021-01-10\n",
      "10   181.787237    3.219662  2021-01-11\n",
      "11 -6778.766373   80.172202  2021-01-12\n",
      "12    17.307588   83.314006  2021-01-13\n",
      "13    19.612458   83.765946  2021-01-14\n",
      "14    11.249896   80.815321  2021-01-15\n",
      "15    20.435205  102.872510  2021-01-16\n",
      "\n",
      "\n",
      "      assoc_time  orbit_time        date\n",
      "0       5.052061    2.914262  2021-01-01\n",
      "1       6.062996    2.682486  2021-01-02\n",
      "2       6.747444    2.874137  2021-01-03\n",
      "3      11.736605   30.482745  2021-01-04\n",
      "4      13.744864   38.824314  2021-01-05\n",
      "5      18.022933   56.304881  2021-01-06\n",
      "6      21.751052   84.039586  2021-01-07\n",
      "7      24.492011   77.879562  2021-01-08\n",
      "8  -19381.892009   86.833556  2021-01-09\n",
      "9      28.056508   87.008704  2021-01-10\n",
      "10    117.924173    2.943013  2021-01-11\n",
      "11     30.343565  141.732100  2021-01-12\n",
      "12     40.686841  178.224279  2021-01-13\n",
      "13     34.587157  228.196127  2021-01-14\n",
      "14     19.139137  107.695269  2021-01-15\n",
      "15 -17344.321977  370.037965  2021-01-16\n",
      "\n",
      "\n",
      "    assoc_time  orbit_time        date\n",
      "0     7.142314    2.723455  2021-01-01\n",
      "1    10.256057    2.465252  2021-01-02\n",
      "2     9.731382   32.803484  2021-01-03\n",
      "3    19.125044   58.632366  2021-01-04\n",
      "4    21.573064  105.016755  2021-01-05\n",
      "5    29.859103   78.901773  2021-01-06\n",
      "6    39.852006   88.028056  2021-01-07\n",
      "7    39.465974   91.727564  2021-01-08\n",
      "8    60.985343  180.002486  2021-01-09\n",
      "9    43.460666  166.905417  2021-01-10\n",
      "10  130.470026    3.289896  2021-01-11\n",
      "11   50.174787  317.792048  2021-01-12\n",
      "12   74.751151  490.825071  2021-01-13\n",
      "13   58.787443  531.873351  2021-01-14\n",
      "14   27.452127  221.308440  2021-01-15\n",
      "15   66.420326  804.637086  2021-01-16\n",
      "\n",
      "\n",
      "    assoc_time   orbit_time        date\n",
      "0    10.737954     2.673824  2021-01-01\n",
      "1    17.877123    30.286806  2021-01-02\n",
      "2    13.024270    44.504425  2021-01-03\n",
      "3    30.640704    80.887548  2021-01-04\n",
      "4    31.679281    82.312639  2021-01-05\n",
      "5    41.767145    87.648039  2021-01-06\n",
      "6    68.489539   136.935053  2021-01-07\n",
      "7    55.590137   180.756354  2021-01-08\n",
      "8    83.331475   369.135110  2021-01-09\n",
      "9    59.733843   283.104998  2021-01-10\n",
      "10  119.161670     3.301967  2021-01-11\n",
      "11   76.369678   555.242655  2021-01-12\n",
      "12   94.098137   890.234280  2021-01-13\n",
      "13   84.928095   824.875092  2021-01-14\n",
      "14   35.794662   348.552408  2021-01-15\n",
      "15   97.524290  1159.096373  2021-01-16\n",
      "\n",
      "\n",
      "      assoc_time   orbit_time        date\n",
      "0      12.461338    39.914359  2021-01-01\n",
      "1      22.322238    31.839728  2021-01-02\n",
      "2      14.593051    73.891398  2021-01-03\n",
      "3      47.295259    79.944373  2021-01-04\n",
      "4      48.164818    88.541604  2021-01-05\n",
      "5      63.519537   138.968068  2021-01-06\n",
      "6      96.899432   258.120224  2021-01-07\n",
      "7      80.025585   293.982502  2021-01-08\n",
      "8  -48542.929183   606.535406  2021-01-09\n",
      "9  -30674.104291   452.067882  2021-01-10\n",
      "10    123.367788     3.262230  2021-01-11\n",
      "11     95.196103   771.860744  2021-01-12\n",
      "12    127.917328  1256.184382  2021-01-13\n",
      "13 -39106.781089  1115.118708  2021-01-14\n",
      "14     43.861382   496.449784  2021-01-15\n",
      "15 -43450.993784  1604.946724  2021-01-16\n",
      "\n",
      "\n"
     ]
    }
   ],
   "source": [
    "for p in data_path:\n",
    "    pdf = pd.read_parquet(p)\n",
    "    print(pdf)\n",
    "    print()\n",
    "    print()\n",
    "    res = pdf[pdf[\"assoc_time\"] > 0]\n",
    "    mean_assoc.append(res[\"assoc_time\"].sum())\n",
    "    # std_assoc.append(res[\"assoc_time\"].std())\n",
    "\n",
    "    mean_orb.append(res[\"orbit_time\"].sum())\n",
    "    # std_orb.append(res[\"orbit_time\"].std())\n",
    "\n",
    "    mean_ff.append(res[\"assoc_time\"].sum() + res[\"orbit_time\"].sum())\n",
    "    # std_ff.append(np.sqrt(res[\"assoc_time\"].std()**2 + res[\"orbit_time\"].std()**2))"
   ]
  },
  {
   "cell_type": "code",
   "execution_count": 102,
   "metadata": {},
   "outputs": [],
   "source": [
    "mean_assoc[-1] = sum_assoc_100_exp\n",
    "mean_orb[-1] = sum_orbit_100_exp\n",
    "mean_ff[-1] = sum_assoc_100_exp + sum_orbit_100_exp"
   ]
  },
  {
   "cell_type": "code",
   "execution_count": 103,
   "metadata": {},
   "outputs": [
    {
     "data": {
      "text/plain": [
       "([336.3378264904022,\n",
       "  378.34734559059143,\n",
       "  689.5068144798279,\n",
       "  920.7480022907257,\n",
       "  1225.015934228897],\n",
       " [576.3514235019684,\n",
       "  1041.8014657497406,\n",
       "  3176.932500600815,\n",
       "  5079.547572135925,\n",
       "  7478.242817878723],\n",
       " [912.6892499923706,\n",
       "  1420.148811340332,\n",
       "  3866.4393150806427,\n",
       "  6000.295574426651,\n",
       "  8703.25875210762])"
      ]
     },
     "execution_count": 103,
     "metadata": {},
     "output_type": "execute_result"
    }
   ],
   "source": [
    "mean_assoc, mean_orb, mean_ff"
   ]
  },
  {
   "cell_type": "code",
   "execution_count": 104,
   "metadata": {},
   "outputs": [
    {
     "data": {
      "text/plain": [
       "(array([ 20,  40,  60,  80, 100]),\n",
       " array([ 5.60563044,  6.30578909, 11.49178024, 15.34580004, 20.41693224]),\n",
       " array([1., 1.]))"
      ]
     },
     "execution_count": 104,
     "metadata": {},
     "output_type": "execute_result"
    }
   ],
   "source": [
    "percent_exp, time_assoc, x_0"
   ]
  },
  {
   "cell_type": "code",
   "execution_count": 105,
   "metadata": {},
   "outputs": [],
   "source": [
    "time_assoc = np.array(mean_assoc) / 60\n",
    "# std_time_orb = np.array(std_orb) / 60\n",
    "\n",
    "res_log = least_squares(loss_log, x_0, args=(percent_exp, time_assoc))\n",
    "res_lin = least_squares(loss, x_0, args=(percent_exp, time_assoc))\n",
    "res_square = least_squares(loss_square, x_0, args=(percent_exp, time_assoc))\n",
    "res_cube = least_squares(loss_cube, x_0, args=(percent_exp, time_assoc))"
   ]
  },
  {
   "cell_type": "code",
   "execution_count": 106,
   "metadata": {},
   "outputs": [
    {
     "data": {
      "image/png": "[encoded data removed]",
      "text/plain": [
       "<Figure size 800x800 with 1 Axes>"
      ]
     },
     "metadata": {},
     "output_type": "display_data"
    }
   ],
   "source": [
    "fig, ax = plt.subplots(figsize=(8, 8))\n",
    "\n",
    "fig.suptitle(\"Fink-fat complexity\\nassociations time\")\n",
    "\n",
    "plt.scatter(alerts_rate_data, time_assoc, label=\"real data\")\n",
    "# for i, rate in enumerate(alerts_rate_data):\n",
    "#     ax.annotate(f\"{int(rate)} alerts/day\", (percent_exp[i]-3, time_assoc[i]+2))\n",
    "\n",
    "# plt.errorbar(percent_exp, mean_assoc, yerr=std_assoc, linestyle=\"None\")\n",
    "\n",
    "\n",
    "plt.plot(alerts_rate_data, f(res_lin.x, percent_exp), label=\"O(N), RMS={:.1f}\".format(rms(res_lin)), linestyle=\"--\")\n",
    "plt.plot(alerts_rate_data, f_log(res_log.x, percent_exp), label=\"O(Nlog(N)), RMS={:.1f}\".format(rms(res_log)), linestyle=\"--\")\n",
    "plt.plot(alerts_rate_data, f_square(res_square.x, percent_exp), label=\"O(N²), RMS={:.1f}\".format(rms(res_square)), linestyle=\"--\")\n",
    "plt.plot(alerts_rate_data, f_cube(res_cube.x, percent_exp), label=\"O(N³), RMS={:.1f}\".format(rms(res_cube)), linestyle=\"--\")\n",
    "\n",
    "\n",
    "plt.xlabel(\"alerts rate (alerts/day)\")\n",
    "plt.ylabel(\"Time (minutes)\")\n",
    "plt.legend()\n",
    "plt.show()"
   ]
  },
  {
   "cell_type": "code",
   "execution_count": 107,
   "metadata": {},
   "outputs": [],
   "source": [
    "time_orb = np.array(mean_orb) / 60\n",
    "std_time_orb = np.array(std_orb) / 60\n",
    "\n",
    "def f(x, t):\n",
    "    return x[0] * t + x[1]\n",
    "\n",
    "\n",
    "def loss(x, t, y):\n",
    "    return f(x, t) - y\n",
    "\n",
    "x_0 = np.array([1.0, 1.0])\n",
    "\n",
    "res_lsq = least_squares(loss_log, x_0, args=(percent_exp, time_orb))\n",
    "\n",
    "\n",
    "res_log = least_squares(loss_log, x_0, args=(percent_exp, time_orb))\n",
    "res_lin = least_squares(loss, x_0, args=(percent_exp, time_orb))\n",
    "res_square = least_squares(loss_square, x_0, args=(percent_exp, time_orb))\n",
    "res_cube = least_squares(loss_cube, x_0, args=(percent_exp, time_orb))"
   ]
  },
  {
   "cell_type": "code",
   "execution_count": 108,
   "metadata": {},
   "outputs": [
    {
     "data": {
      "image/png": "[encoded data removed]",
      "text/plain": [
       "<Figure size 800x800 with 1 Axes>"
      ]
     },
     "metadata": {},
     "output_type": "display_data"
    }
   ],
   "source": [
    "fig, ax = plt.subplots(figsize=(8, 8))\n",
    "\n",
    "fig.suptitle(\"Fink-fat complexity\\norbit fitting time\")\n",
    "\n",
    "ax.scatter(alerts_rate_data, time_orb, label=\"real data\")\n",
    "# for i, rate in enumerate(alerts_rate_data):\n",
    "#     ax.annotate(f\"{int(rate)} alerts/day\", (percent_exp[i]-1, time_orb[i] + 0.3))\n",
    "\n",
    "# ax.errorbar(percent_exp, time_orb, yerr=std_time_orb, linestyle=\"None\")\n",
    "\n",
    "\n",
    "plt.plot(alerts_rate_data, f(res_lin.x, percent_exp), label=\"O(N), RMS={:.1f}\".format(rms(res_lin)), linestyle=\"--\")\n",
    "plt.plot(alerts_rate_data, f_log(res_log.x, percent_exp), label=\"O(Nlog(N)), RMS={:.1f}\".format(rms(res_log)), linestyle=\"--\")\n",
    "plt.plot(alerts_rate_data, f_square(res_square.x, percent_exp), label=\"O(N²), RMS={:.1f}\".format(rms(res_square)), linestyle=\"--\")\n",
    "plt.plot(alerts_rate_data, f_cube(res_cube.x, percent_exp), label=\"O(N³), RMS={:.1f}\".format(rms(res_cube)), linestyle=\"--\")\n",
    "\n",
    "\n",
    "ax.set_xlabel(\"alerts rate (alerts/day)\")\n",
    "ax.set_ylabel(\"Time (minutes)\")\n",
    "ax.legend()\n",
    "plt.show()"
   ]
  },
  {
   "cell_type": "code",
   "execution_count": 109,
   "metadata": {},
   "outputs": [],
   "source": [
    "time_ff = np.array(mean_ff) / 60\n",
    "std_time_ff = np.array(std_ff) / 60\n",
    "\n",
    "def f(x, t):\n",
    "    return x[0] * t + x[1]\n",
    "\n",
    "\n",
    "def loss(x, t, y):\n",
    "    return f(x, t) - y\n",
    "\n",
    "x_0 = np.array([1.0, 1.0])\n",
    "\n",
    "res_lsq = least_squares(loss, x_0, args=(percent_exp, time_ff))\n",
    "\n",
    "res_log = least_squares(loss_log, x_0, args=(percent_exp, time_ff))\n",
    "res_lin = least_squares(loss, x_0, args=(percent_exp, time_ff))\n",
    "res_square = least_squares(loss_square, x_0, args=(percent_exp, time_ff))\n",
    "res_cube = least_squares(loss_cube, x_0, args=(percent_exp, time_ff))"
   ]
  },
  {
   "cell_type": "code",
   "execution_count": 110,
   "metadata": {},
   "outputs": [
    {
     "data": {
      "image/png": "[encoded data removed]",
      "text/plain": [
       "<Figure size 400x300 with 1 Axes>"
      ]
     },
     "metadata": {},
     "output_type": "display_data"
    }
   ],
   "source": [
    "plt.rcParams.update({'font.size': 8.5})\n",
    "\n",
    "fig, ax = plt.subplots(figsize=(4, 3))\n",
    "\n",
    "# fig.suptitle(\"Fink-fat complexity\\n(associations + orbit fitting) time\")\n",
    "\n",
    "ax.scatter(alerts_rate_data, time_ff, label=\"data\", s=5)\n",
    "# for i, rate in enumerate(alerts_rate_data):\n",
    "#     ax.annotate(f\"{int(rate)} alerts/day\", (percent_exp[i]-1, time_ff[i] + 0.3))\n",
    "\n",
    "\n",
    "# ax.errorbar(percent_exp, time_ff, yerr=std_time_ff, linestyle=\"None\")\n",
    "\n",
    "\n",
    "plt.plot(\n",
    "    alerts_rate_data, \n",
    "    f(res_lin.x, percent_exp), \n",
    "    label=\"O(N), RMS={:.1f}\".format(rms(res_lin)), \n",
    "    linewidth=1,\n",
    "    linestyle=\"--\", color=\"yellow\"\n",
    ")\n",
    "plt.plot(\n",
    "    alerts_rate_data, \n",
    "    f_log(res_log.x, percent_exp), \n",
    "    label=\"O(Nlog(N)), RMS={:.1f}\".format(rms(res_log)), \n",
    "    linewidth=1,\n",
    "    linestyle=\"--\", color=\"red\"\n",
    ")\n",
    "plt.plot(\n",
    "    alerts_rate_data, \n",
    "    f_square(res_square.x, percent_exp), \n",
    "    label=\"O(N²), RMS={:.1f}\".format(rms(res_square)), \n",
    "    linewidth=1,\n",
    "    linestyle=\"--\", color=\"green\"\n",
    ")\n",
    "plt.plot(\n",
    "    alerts_rate_data, \n",
    "    f_cube(res_cube.x, percent_exp), \n",
    "    label=\"O(N³), RMS={:.1f}\".format(rms(res_cube)), \n",
    "    linewidth=1,\n",
    "    linestyle=\"--\", color=\"orange\"\n",
    ")\n",
    "\n",
    "\n",
    "ax.set_xlabel(\"alerts rate (alerts/day)\")\n",
    "ax.set_ylabel(\"Time (minutes)\")\n",
    "ax.legend()\n",
    "plt.tight_layout()\n",
    "plt.savefig(\"fink_fat_pipeline_comp.pgf\")\n",
    "plt.show()"
   ]
  },
  {
   "cell_type": "code",
   "execution_count": null,
   "metadata": {},
   "outputs": [],
   "source": []
  }
 ],
 "metadata": {
  "kernelspec": {
   "display_name": "Python 3",
   "language": "python",
   "name": "python3"
  },
  "language_info": {
   "codemirror_mode": {
    "name": "ipython",
    "version": 3
   },
   "file_extension": ".py",
   "mimetype": "text/x-python",
   "name": "python",
   "nbconvert_exporter": "python",
   "pygments_lexer": "ipython3",
   "version": "3.7.6"
  }
 },
 "nbformat": 4,
 "nbformat_minor": 4
}
