{
 "cells": [
  {
   "cell_type": "code",
   "execution_count": 9,
   "metadata": {},
   "outputs": [],
   "source": [
    "%reload_ext autoreload\n",
    "%autoreload 2"
   ]
  },
  {
   "cell_type": "code",
   "execution_count": 10,
   "metadata": {},
   "outputs": [],
   "source": [
    "import exploring_script as es\n",
    "import importlib\n",
    "importlib.reload(es)\n",
    "import pandas as pd\n",
    "import numpy as np\n",
    "\n",
    "\n",
    "from astropy.time import Time"
   ]
  },
  {
   "cell_type": "code",
   "execution_count": 51,
   "metadata": {},
   "outputs": [],
   "source": [
    "confirmed_sso = es.load_data(columns=[\"ssnamenr\", \"jd\", \"nid\", \"ra\", \"dec\", \"magpsf\", \"sigmapsf\"])"
   ]
  },
  {
   "cell_type": "code",
   "execution_count": 21,
   "metadata": {},
   "outputs": [],
   "source": [
    "rocks_names = pd.read_parquet(\"data/rocks_fink.parquet\")\n",
    "mpc_database = pd.read_parquet(\n",
    "    \"../data/MPC_Database/mpcorb_extended.parquet\",\n",
    "    columns=[\"Number\", \"Name\", \"Principal_desig\", \"Other_desigs\", \"a\", \"e\", \"i\", \"Node\", \"Peri\", \"M\", \"Epoch\", \"Orbit_type\"]\n",
    ")"
   ]
  },
  {
   "cell_type": "code",
   "execution_count": 22,
   "metadata": {},
   "outputs": [],
   "source": [
    "start_jd = Time(\"2020-09-01\").jd\n",
    "end_jd = Time(\"2020-10-01\").jd"
   ]
  },
  {
   "cell_type": "code",
   "execution_count": 23,
   "metadata": {},
   "outputs": [],
   "source": [
    "exp_paper_data = confirmed_sso[(confirmed_sso[\"jd\"] > start_jd) & (confirmed_sso[\"jd\"] < end_jd)]"
   ]
  },
  {
   "cell_type": "code",
   "execution_count": 24,
   "metadata": {},
   "outputs": [],
   "source": [
    "mpc_in_fink, fink_not_in_mpc = es.mpc_crossmatch(mpc_database, pd.Series(exp_paper_data[\"ssnamenr\"].unique()))"
   ]
  },
  {
   "cell_type": "code",
   "execution_count": 33,
   "metadata": {},
   "outputs": [],
   "source": [
    "orbfit_limit_point=6\n",
    "tw=15\n",
    "\n",
    "\n",
    "is_detectable = (\n",
    "        exp_paper_data.sort_values(\"jd\")\n",
    "        .groupby(\"ssnamenr\")\n",
    "        .agg(nb_det=(\"ra\", len), is_in_tw=(\"jd\", lambda x: np.all(np.diff(x) <= tw)))\n",
    "        .reset_index()\n",
    "    )"
   ]
  },
  {
   "cell_type": "code",
   "execution_count": 39,
   "metadata": {},
   "outputs": [],
   "source": [
    "exp_paper_data = exp_paper_data.merge(is_detectable, on=\"ssnamenr\")"
   ]
  },
  {
   "cell_type": "code",
   "execution_count": 42,
   "metadata": {},
   "outputs": [],
   "source": [
    "exp_paper_data_detectable = exp_paper_data[(exp_paper_data[\"nb_det\"] >= orbfit_limit_point) & (exp_paper_data[\"is_in_tw\"])]"
   ]
  },
  {
   "cell_type": "code",
   "execution_count": 47,
   "metadata": {},
   "outputs": [],
   "source": [
    "mpc_in_detectable, detectable_not_in_mpc = es.mpc_crossmatch(mpc_database, pd.Series(exp_paper_data_detectable[\"ssnamenr\"].unique()))"
   ]
  },
  {
   "cell_type": "code",
   "execution_count": 49,
   "metadata": {},
   "outputs": [
    {
     "data": {
      "text/plain": [
       "MBA                                           80594\n",
       "Jupiter Trojan                                 2065\n",
       "Hungaria                                       1596\n",
       "Phocaea                                        1127\n",
       "Object with perihelion distance < 1.665 AU      695\n",
       "Hilda                                           349\n",
       "Amor                                            111\n",
       "Apollo                                           87\n",
       "Distant Object                                   29\n",
       "Aten                                             13\n",
       "Name: Orbit_type, dtype: int64"
      ]
     },
     "execution_count": 49,
     "metadata": {},
     "output_type": "execute_result"
    }
   ],
   "source": [
    "mpc_in_fink[\"Orbit_type\"].value_counts()"
   ]
  },
  {
   "cell_type": "code",
   "execution_count": 48,
   "metadata": {},
   "outputs": [
    {
     "data": {
      "text/plain": [
       "MBA                                           42237\n",
       "Jupiter Trojan                                 1058\n",
       "Hungaria                                        788\n",
       "Phocaea                                         635\n",
       "Object with perihelion distance < 1.665 AU      407\n",
       "Hilda                                           189\n",
       "Amor                                             53\n",
       "Apollo                                           49\n",
       "Distant Object                                   12\n",
       "Aten                                              5\n",
       "Name: Orbit_type, dtype: int64"
      ]
     },
     "execution_count": 48,
     "metadata": {},
     "output_type": "execute_result"
    }
   ],
   "source": [
    "mpc_in_detectable[\"Orbit_type\"].value_counts()"
   ]
  },
  {
   "cell_type": "code",
   "execution_count": 52,
   "metadata": {},
   "outputs": [
    {
     "data": {
      "text/html": [
       "<div>\n",
       "<style scoped>\n",
       "    .dataframe tbody tr th:only-of-type {\n",
       "        vertical-align: middle;\n",
       "    }\n",
       "\n",
       "    .dataframe tbody tr th {\n",
       "        vertical-align: top;\n",
       "    }\n",
       "\n",
       "    .dataframe thead th {\n",
       "        text-align: right;\n",
       "    }\n",
       "</style>\n",
       "<table border=\"1\" class=\"dataframe\">\n",
       "  <thead>\n",
       "    <tr style=\"text-align: right;\">\n",
       "      <th></th>\n",
       "      <th>Number</th>\n",
       "      <th>Name</th>\n",
       "      <th>Principal_desig</th>\n",
       "      <th>Other_desigs</th>\n",
       "      <th>a</th>\n",
       "      <th>e</th>\n",
       "      <th>i</th>\n",
       "      <th>Node</th>\n",
       "      <th>Peri</th>\n",
       "      <th>M</th>\n",
       "      <th>Epoch</th>\n",
       "      <th>Orbit_type</th>\n",
       "    </tr>\n",
       "  </thead>\n",
       "  <tbody>\n",
       "    <tr>\n",
       "      <th>33</th>\n",
       "      <td>(34)</td>\n",
       "      <td>Circe</td>\n",
       "      <td>A855 GA</td>\n",
       "      <td>1965 JL</td>\n",
       "      <td>2.686888</td>\n",
       "      <td>0.106587</td>\n",
       "      <td>5.49740</td>\n",
       "      <td>184.33198</td>\n",
       "      <td>330.04966</td>\n",
       "      <td>80.66508</td>\n",
       "      <td>2460000.5</td>\n",
       "      <td>MBA</td>\n",
       "    </tr>\n",
       "    <tr>\n",
       "      <th>44</th>\n",
       "      <td>(45)</td>\n",
       "      <td>Eugenia</td>\n",
       "      <td>A857 MA</td>\n",
       "      <td>1941 BN</td>\n",
       "      <td>2.720880</td>\n",
       "      <td>0.083354</td>\n",
       "      <td>6.60508</td>\n",
       "      <td>147.59158</td>\n",
       "      <td>87.54349</td>\n",
       "      <td>346.55692</td>\n",
       "      <td>2460000.5</td>\n",
       "      <td>MBA</td>\n",
       "    </tr>\n",
       "    <tr>\n",
       "      <th>50</th>\n",
       "      <td>(51)</td>\n",
       "      <td>Nemausa</td>\n",
       "      <td>A858 BA</td>\n",
       "      <td>1949 HC1</td>\n",
       "      <td>2.364919</td>\n",
       "      <td>0.067404</td>\n",
       "      <td>9.97939</td>\n",
       "      <td>175.95499</td>\n",
       "      <td>1.69084</td>\n",
       "      <td>116.27059</td>\n",
       "      <td>2460000.5</td>\n",
       "      <td>MBA</td>\n",
       "    </tr>\n",
       "    <tr>\n",
       "      <th>61</th>\n",
       "      <td>(62)</td>\n",
       "      <td>Erato</td>\n",
       "      <td>A860 RD</td>\n",
       "      <td>A906 BE</td>\n",
       "      <td>3.130603</td>\n",
       "      <td>0.168109</td>\n",
       "      <td>2.23647</td>\n",
       "      <td>125.12030</td>\n",
       "      <td>277.48090</td>\n",
       "      <td>127.94379</td>\n",
       "      <td>2460000.5</td>\n",
       "      <td>MBA</td>\n",
       "    </tr>\n",
       "    <tr>\n",
       "      <th>66</th>\n",
       "      <td>(67)</td>\n",
       "      <td>Asia</td>\n",
       "      <td>A861 HA</td>\n",
       "      <td>None</td>\n",
       "      <td>2.422194</td>\n",
       "      <td>0.184575</td>\n",
       "      <td>6.02929</td>\n",
       "      <td>202.38775</td>\n",
       "      <td>107.06734</td>\n",
       "      <td>284.59770</td>\n",
       "      <td>2460000.5</td>\n",
       "      <td>MBA</td>\n",
       "    </tr>\n",
       "    <tr>\n",
       "      <th>...</th>\n",
       "      <td>...</td>\n",
       "      <td>...</td>\n",
       "      <td>...</td>\n",
       "      <td>...</td>\n",
       "      <td>...</td>\n",
       "      <td>...</td>\n",
       "      <td>...</td>\n",
       "      <td>...</td>\n",
       "      <td>...</td>\n",
       "      <td>...</td>\n",
       "      <td>...</td>\n",
       "      <td>...</td>\n",
       "    </tr>\n",
       "    <tr>\n",
       "      <th>1088217</th>\n",
       "      <td>None</td>\n",
       "      <td>None</td>\n",
       "      <td>2017 YG13</td>\n",
       "      <td>2015 EU4</td>\n",
       "      <td>2.289755</td>\n",
       "      <td>0.234933</td>\n",
       "      <td>4.04789</td>\n",
       "      <td>53.75587</td>\n",
       "      <td>330.70343</td>\n",
       "      <td>232.09054</td>\n",
       "      <td>2460000.5</td>\n",
       "      <td>MBA</td>\n",
       "    </tr>\n",
       "    <tr>\n",
       "      <th>1091374</th>\n",
       "      <td>None</td>\n",
       "      <td>None</td>\n",
       "      <td>2018 BA18</td>\n",
       "      <td>None</td>\n",
       "      <td>2.732153</td>\n",
       "      <td>0.236757</td>\n",
       "      <td>8.51407</td>\n",
       "      <td>93.65058</td>\n",
       "      <td>250.96625</td>\n",
       "      <td>205.93107</td>\n",
       "      <td>2460000.5</td>\n",
       "      <td>MBA</td>\n",
       "    </tr>\n",
       "    <tr>\n",
       "      <th>1111028</th>\n",
       "      <td>None</td>\n",
       "      <td>None</td>\n",
       "      <td>2019 AS55</td>\n",
       "      <td>None</td>\n",
       "      <td>1.932107</td>\n",
       "      <td>0.113588</td>\n",
       "      <td>17.87981</td>\n",
       "      <td>303.87141</td>\n",
       "      <td>56.44723</td>\n",
       "      <td>318.19537</td>\n",
       "      <td>2460000.5</td>\n",
       "      <td>Hungaria</td>\n",
       "    </tr>\n",
       "    <tr>\n",
       "      <th>1115074</th>\n",
       "      <td>None</td>\n",
       "      <td>None</td>\n",
       "      <td>2019 GP45</td>\n",
       "      <td>None</td>\n",
       "      <td>2.583391</td>\n",
       "      <td>0.288735</td>\n",
       "      <td>10.49456</td>\n",
       "      <td>16.31149</td>\n",
       "      <td>329.24792</td>\n",
       "      <td>223.04968</td>\n",
       "      <td>2460000.5</td>\n",
       "      <td>MBA</td>\n",
       "    </tr>\n",
       "    <tr>\n",
       "      <th>1118834</th>\n",
       "      <td>None</td>\n",
       "      <td>None</td>\n",
       "      <td>2019 JM61</td>\n",
       "      <td>None</td>\n",
       "      <td>3.149978</td>\n",
       "      <td>0.327884</td>\n",
       "      <td>20.94676</td>\n",
       "      <td>57.29304</td>\n",
       "      <td>274.48483</td>\n",
       "      <td>176.19916</td>\n",
       "      <td>2460000.5</td>\n",
       "      <td>MBA</td>\n",
       "    </tr>\n",
       "  </tbody>\n",
       "</table>\n",
       "<p>45433 rows × 12 columns</p>\n",
       "</div>"
      ],
      "text/plain": [
       "        Number     Name Principal_desig Other_desigs         a         e  \\\n",
       "33        (34)    Circe         A855 GA      1965 JL  2.686888  0.106587   \n",
       "44        (45)  Eugenia         A857 MA      1941 BN  2.720880  0.083354   \n",
       "50        (51)  Nemausa         A858 BA     1949 HC1  2.364919  0.067404   \n",
       "61        (62)    Erato         A860 RD      A906 BE  3.130603  0.168109   \n",
       "66        (67)     Asia         A861 HA         None  2.422194  0.184575   \n",
       "...        ...      ...             ...          ...       ...       ...   \n",
       "1088217   None     None       2017 YG13     2015 EU4  2.289755  0.234933   \n",
       "1091374   None     None       2018 BA18         None  2.732153  0.236757   \n",
       "1111028   None     None       2019 AS55         None  1.932107  0.113588   \n",
       "1115074   None     None       2019 GP45         None  2.583391  0.288735   \n",
       "1118834   None     None       2019 JM61         None  3.149978  0.327884   \n",
       "\n",
       "                i       Node       Peri          M      Epoch Orbit_type  \n",
       "33        5.49740  184.33198  330.04966   80.66508  2460000.5        MBA  \n",
       "44        6.60508  147.59158   87.54349  346.55692  2460000.5        MBA  \n",
       "50        9.97939  175.95499    1.69084  116.27059  2460000.5        MBA  \n",
       "61        2.23647  125.12030  277.48090  127.94379  2460000.5        MBA  \n",
       "66        6.02929  202.38775  107.06734  284.59770  2460000.5        MBA  \n",
       "...           ...        ...        ...        ...        ...        ...  \n",
       "1088217   4.04789   53.75587  330.70343  232.09054  2460000.5        MBA  \n",
       "1091374   8.51407   93.65058  250.96625  205.93107  2460000.5        MBA  \n",
       "1111028  17.87981  303.87141   56.44723  318.19537  2460000.5   Hungaria  \n",
       "1115074  10.49456   16.31149  329.24792  223.04968  2460000.5        MBA  \n",
       "1118834  20.94676   57.29304  274.48483  176.19916  2460000.5        MBA  \n",
       "\n",
       "[45433 rows x 12 columns]"
      ]
     },
     "execution_count": 52,
     "metadata": {},
     "output_type": "execute_result"
    }
   ],
   "source": [
    "mpc_in_detectable"
   ]
  },
  {
   "cell_type": "code",
   "execution_count": 53,
   "metadata": {},
   "outputs": [],
   "source": [
    "bft_data = pd.read_parquet(\"../data/BFT_Miriade/ssoBFT-latest.parquet\", \n",
    "                columns=[\"sso_id\", \"sso_number\", \"sso_name\", \"sso_type\", \"sso_class\"])"
   ]
  },
  {
   "cell_type": "code",
   "execution_count": 67,
   "metadata": {},
   "outputs": [],
   "source": [
    "rocks_names[\"ast_number\"] = rocks_names[\"ast_number\"].fillna(-1).astype(int).astype(str)"
   ]
  },
  {
   "cell_type": "code",
   "execution_count": 92,
   "metadata": {},
   "outputs": [],
   "source": [
    "def get_label(x):\n",
    "        if x[0] == \"MB\":\n",
    "            if x[1] in [\"Middle\", \"Outer\", \"Inner\"]:\n",
    "                return x[0]\n",
    "            else:\n",
    "                return x[1]\n",
    "        elif x[0] == \"NEA\":\n",
    "            return x[1]\n",
    "        else:\n",
    "            return x[0]\n",
    "\n",
    "def merge_bft(data):\n",
    "    merge = (data\n",
    "            .merge(rocks_names, left_on=\"ssnamenr\", right_on=\"ast_number\")\n",
    "            .merge(bft_data, left_on=\"ast_name\", right_on=\"sso_name\")\n",
    "            )\n",
    "    merge[\"class_alt\"] = (\n",
    "        merge[\"sso_class\"].str.split(\">\").map(lambda x: get_label(x))\n",
    "    )\n",
    "\n",
    "    return merge"
   ]
  },
  {
   "cell_type": "code",
   "execution_count": 93,
   "metadata": {},
   "outputs": [],
   "source": [
    "exp_with_bft = merge_bft(exp_paper_data)"
   ]
  },
  {
   "cell_type": "code",
   "execution_count": 94,
   "metadata": {},
   "outputs": [
    {
     "data": {
      "text/plain": [
       "MB              715549\n",
       "Trojan           16720\n",
       "Hungaria         12443\n",
       "Phocaea           8510\n",
       "Mars-Crosser      7814\n",
       "Cybele            3271\n",
       "Hilda             3207\n",
       "Apollo             800\n",
       "Amor               736\n",
       "KBO                116\n",
       "Aten                85\n",
       "Centaur             50\n",
       "Name: class_alt, dtype: int64"
      ]
     },
     "execution_count": 94,
     "metadata": {},
     "output_type": "execute_result"
    }
   ],
   "source": [
    "exp_with_bft[\"class_alt\"].value_counts()"
   ]
  },
  {
   "cell_type": "code",
   "execution_count": 97,
   "metadata": {},
   "outputs": [],
   "source": [
    "kbo_class = exp_with_bft[exp_with_bft[\"class_alt\"] == \"KBO\"]"
   ]
  },
  {
   "cell_type": "code",
   "execution_count": 98,
   "metadata": {},
   "outputs": [
    {
     "data": {
      "text/plain": [
       "array(['2020-09-22 11:01:55.998', '2020-09-04 09:36:18.999',\n",
       "       '2020-09-18 11:20:42.999', '2020-09-04 08:52:21.000',\n",
       "       '2020-09-16 11:39:19.996', '2020-09-20 08:47:22.998',\n",
       "       '2020-09-16 11:38:40.001', '2020-09-28 12:17:31.998',\n",
       "       '2020-09-15 09:29:32.997', '2020-09-22 09:39:26.004',\n",
       "       '2020-09-22 11:26:36.004', '2020-09-04 09:04:47.004',\n",
       "       '2020-09-19 10:09:41.000', '2020-09-15 10:08:14.004',\n",
       "       '2020-09-22 06:39:48.001', '2020-09-20 04:20:56.000',\n",
       "       '2020-09-19 10:03:37.999', '2020-09-24 09:04:46.001',\n",
       "       '2020-09-04 08:09:17.001', '2020-09-27 11:01:53.000',\n",
       "       '2020-09-26 06:49:53.000', '2020-09-16 11:48:47.998'], dtype='<U23')"
      ]
     },
     "execution_count": 98,
     "metadata": {},
     "output_type": "execute_result"
    }
   ],
   "source": [
    "Time(kbo_class.sort_values(\"jd\").groupby(\"ssnamenr\").agg(\n",
    "    first_jd=(\"jd\", lambda x: list(x)[0])\n",
    ")[\"first_jd\"], format=\"jd\").iso"
   ]
  },
  {
   "cell_type": "code",
   "execution_count": 103,
   "metadata": {},
   "outputs": [],
   "source": [
    "first_night = pd.read_parquet(\"../../kbo_neo_issue_ff_output/mpc/trajectory_df.parquet\")"
   ]
  },
  {
   "cell_type": "code",
   "execution_count": 107,
   "metadata": {},
   "outputs": [
    {
     "data": {
      "text/plain": [
       "MB              47029\n",
       "Phocaea           734\n",
       "Mars-Crosser      664\n",
       "Hungaria          642\n",
       "Trojan            526\n",
       "Cybele            257\n",
       "Hilda             197\n",
       "Apollo             74\n",
       "Amor               53\n",
       "Aten                4\n",
       "KBO                 2\n",
       "Name: class_alt, dtype: int64"
      ]
     },
     "execution_count": 107,
     "metadata": {},
     "output_type": "execute_result"
    }
   ],
   "source": [
    "bft_first_night = merge_bft(first_night)\n",
    "bft_first_night[\"class_alt\"].value_counts()"
   ]
  },
  {
   "cell_type": "code",
   "execution_count": 112,
   "metadata": {},
   "outputs": [
    {
     "data": {
      "text/plain": [
       "50071    24532\n",
       "50082    24638\n",
       "Name: trajectory_id, dtype: int64"
      ]
     },
     "execution_count": 112,
     "metadata": {},
     "output_type": "execute_result"
    }
   ],
   "source": [
    "bft_first_night[bft_first_night[\"class_alt\"] == \"KBO\"][\"trajectory_id\"]"
   ]
  },
  {
   "cell_type": "code",
   "execution_count": 114,
   "metadata": {},
   "outputs": [
    {
     "data": {
      "text/html": [
       "<div>\n",
       "<style scoped>\n",
       "    .dataframe tbody tr th:only-of-type {\n",
       "        vertical-align: middle;\n",
       "    }\n",
       "\n",
       "    .dataframe tbody tr th {\n",
       "        vertical-align: top;\n",
       "    }\n",
       "\n",
       "    .dataframe thead th {\n",
       "        text-align: right;\n",
       "    }\n",
       "</style>\n",
       "<table border=\"1\" class=\"dataframe\">\n",
       "  <thead>\n",
       "    <tr style=\"text-align: right;\">\n",
       "      <th></th>\n",
       "      <th>ra</th>\n",
       "      <th>dec</th>\n",
       "      <th>jd</th>\n",
       "      <th>nid</th>\n",
       "      <th>fid</th>\n",
       "      <th>magpsf</th>\n",
       "      <th>sigmapsf</th>\n",
       "      <th>candid</th>\n",
       "      <th>not_updated</th>\n",
       "      <th>last_assoc_date</th>\n",
       "      <th>...</th>\n",
       "      <th>ssnamenr</th>\n",
       "      <th>assoc_tag</th>\n",
       "      <th>ast_name</th>\n",
       "      <th>ast_number</th>\n",
       "      <th>sso_id</th>\n",
       "      <th>sso_number</th>\n",
       "      <th>sso_name</th>\n",
       "      <th>sso_type</th>\n",
       "      <th>sso_class</th>\n",
       "      <th>class_alt</th>\n",
       "    </tr>\n",
       "  </thead>\n",
       "  <tbody>\n",
       "    <tr>\n",
       "      <th>29576</th>\n",
       "      <td>26.744931</td>\n",
       "      <td>-1.229936</td>\n",
       "      <td>2.459095e+06</td>\n",
       "      <td>1340</td>\n",
       "      <td>1</td>\n",
       "      <td>18.094423</td>\n",
       "      <td>0.094016</td>\n",
       "      <td>1340498484515015021</td>\n",
       "      <td>True</td>\n",
       "      <td>2020-09-02</td>\n",
       "      <td>...</td>\n",
       "      <td>10546</td>\n",
       "      <td>N</td>\n",
       "      <td>Nakanomakoto</td>\n",
       "      <td>10546</td>\n",
       "      <td>Nakanomakoto</td>\n",
       "      <td>10546.0</td>\n",
       "      <td>Nakanomakoto</td>\n",
       "      <td>Asteroid</td>\n",
       "      <td>MB&gt;Inner</td>\n",
       "      <td>MB</td>\n",
       "    </tr>\n",
       "    <tr>\n",
       "      <th>50071</th>\n",
       "      <td>26.591834</td>\n",
       "      <td>-1.549407</td>\n",
       "      <td>2.459097e+06</td>\n",
       "      <td>1342</td>\n",
       "      <td>2</td>\n",
       "      <td>18.594046</td>\n",
       "      <td>0.088013</td>\n",
       "      <td>1342400214515015018</td>\n",
       "      <td>True</td>\n",
       "      <td>2020-09-04</td>\n",
       "      <td>...</td>\n",
       "      <td>136199</td>\n",
       "      <td>N</td>\n",
       "      <td>Eris</td>\n",
       "      <td>136199</td>\n",
       "      <td>Eris</td>\n",
       "      <td>136199.0</td>\n",
       "      <td>Eris</td>\n",
       "      <td>Dwarf Planet</td>\n",
       "      <td>KBO&gt;Detached</td>\n",
       "      <td>KBO</td>\n",
       "    </tr>\n",
       "  </tbody>\n",
       "</table>\n",
       "<p>2 rows × 22 columns</p>\n",
       "</div>"
      ],
      "text/plain": [
       "              ra       dec            jd   nid  fid     magpsf  sigmapsf  \\\n",
       "29576  26.744931 -1.229936  2.459095e+06  1340    1  18.094423  0.094016   \n",
       "50071  26.591834 -1.549407  2.459097e+06  1342    2  18.594046  0.088013   \n",
       "\n",
       "                    candid  not_updated last_assoc_date  ...  ssnamenr  \\\n",
       "29576  1340498484515015021         True      2020-09-02  ...     10546   \n",
       "50071  1342400214515015018         True      2020-09-04  ...    136199   \n",
       "\n",
       "      assoc_tag      ast_name ast_number        sso_id sso_number  \\\n",
       "29576         N  Nakanomakoto      10546  Nakanomakoto    10546.0   \n",
       "50071         N          Eris     136199          Eris   136199.0   \n",
       "\n",
       "           sso_name      sso_type     sso_class class_alt  \n",
       "29576  Nakanomakoto      Asteroid      MB>Inner        MB  \n",
       "50071          Eris  Dwarf Planet  KBO>Detached       KBO  \n",
       "\n",
       "[2 rows x 22 columns]"
      ]
     },
     "execution_count": 114,
     "metadata": {},
     "output_type": "execute_result"
    }
   ],
   "source": [
    "bft_first_night[bft_first_night[\"trajectory_id\"] == 24532]"
   ]
  },
  {
   "cell_type": "code",
   "execution_count": null,
   "metadata": {},
   "outputs": [],
   "source": []
  }
 ],
 "metadata": {
  "kernelspec": {
   "display_name": "fink_fat_env",
   "language": "python",
   "name": "python3"
  },
  "language_info": {
   "codemirror_mode": {
    "name": "ipython",
    "version": 3
   },
   "file_extension": ".py",
   "mimetype": "text/x-python",
   "name": "python",
   "nbconvert_exporter": "python",
   "pygments_lexer": "ipython3",
   "version": "3.7.6"
  },
  "orig_nbformat": 4
 },
 "nbformat": 4,
 "nbformat_minor": 2
}
