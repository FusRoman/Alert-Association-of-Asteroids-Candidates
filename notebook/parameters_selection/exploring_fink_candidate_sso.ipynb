{
 "cells": [
  {
   "cell_type": "code",
   "execution_count": 2,
   "metadata": {},
   "outputs": [],
   "source": [
    "%reload_ext autoreload\n",
    "%autoreload 2"
   ]
  },
  {
   "cell_type": "code",
   "execution_count": 4,
   "metadata": {},
   "outputs": [],
   "source": [
    "import pandas as pd\n",
    "import exploring_script as es\n",
    "import importlib\n",
    "importlib.reload(es)\n",
    "import matplotlib.pyplot as plt"
   ]
  },
  {
   "cell_type": "code",
   "execution_count": 36,
   "metadata": {},
   "outputs": [],
   "source": [
    "# load all the observations of solar system candidate in Fink from the period between 1st of November 2019 and 29th of December 2022\n",
    "candidate_sso = es.load_candidate_data([\"objectId\", \"ssnamenr\", \"jd\", \"nid\"])\n",
    "candidate_sso_class = pd.read_parquet(\"sso_candidate_with_class.parquet\")"
   ]
  },
  {
   "cell_type": "code",
   "execution_count": 37,
   "metadata": {},
   "outputs": [
    {
     "name": "stdout",
     "output_type": "stream",
     "text": [
      "\n",
      "- Number of sso candidate per night :\n",
      "    * median = 308\n",
      "    * min = 1\n",
      "    * max = 12,889\n",
      "\n"
     ]
    }
   ],
   "source": [
    "count_night = candidate_sso[[\"ssnamenr\", \"nid\"]].groupby(\"nid\").count()\n",
    "print(\"\"\"\n",
    "- Number of sso candidate per night :\n",
    "    * median = {:,}\n",
    "    * min = {:,}\n",
    "    * max = {:,}\n",
    "\"\"\".format(int(count_night.median().values[0]), count_night.min().values[0], count_night.max().values[0]))"
   ]
  },
  {
   "cell_type": "code",
   "execution_count": 53,
   "metadata": {},
   "outputs": [],
   "source": [
    "t = candidate_sso_class.merge(candidate_sso, on=\"objectId\").sort_values(\"jd\", ascending=True).groupby(\"objectId\").agg(\n",
    "    fink_class=(\"fink_class\", list),\n",
    "    count_class=(\"fink_class\", len)\n",
    ").reset_index()"
   ]
  },
  {
   "cell_type": "code",
   "execution_count": 61,
   "metadata": {},
   "outputs": [
    {
     "data": {
      "text/html": [
       "<div>\n",
       "<style scoped>\n",
       "    .dataframe tbody tr th:only-of-type {\n",
       "        vertical-align: middle;\n",
       "    }\n",
       "\n",
       "    .dataframe tbody tr th {\n",
       "        vertical-align: top;\n",
       "    }\n",
       "\n",
       "    .dataframe thead th {\n",
       "        text-align: right;\n",
       "    }\n",
       "</style>\n",
       "<table border=\"1\" class=\"dataframe\">\n",
       "  <thead>\n",
       "    <tr style=\"text-align: right;\">\n",
       "      <th></th>\n",
       "      <th>objectId</th>\n",
       "      <th>fink_class</th>\n",
       "      <th>count_class</th>\n",
       "    </tr>\n",
       "  </thead>\n",
       "  <tbody>\n",
       "    <tr>\n",
       "      <th>225340</th>\n",
       "      <td>ZTF21abvwxhn</td>\n",
       "      <td>[Solar System MPC, Solar System candidate]</td>\n",
       "      <td>2</td>\n",
       "    </tr>\n",
       "    <tr>\n",
       "      <th>192634</th>\n",
       "      <td>ZTF21abddsjy</td>\n",
       "      <td>[Unknown, Solar System candidate]</td>\n",
       "      <td>2</td>\n",
       "    </tr>\n",
       "    <tr>\n",
       "      <th>264172</th>\n",
       "      <td>ZTF21abydnwb</td>\n",
       "      <td>[Solar System MPC, Solar System candidate]</td>\n",
       "      <td>2</td>\n",
       "    </tr>\n",
       "    <tr>\n",
       "      <th>193032</th>\n",
       "      <td>ZTF21abdjbjr</td>\n",
       "      <td>[Unknown, Solar System candidate]</td>\n",
       "      <td>2</td>\n",
       "    </tr>\n",
       "    <tr>\n",
       "      <th>232899</th>\n",
       "      <td>ZTF21abwqmil</td>\n",
       "      <td>[Solar System candidate, Unknown]</td>\n",
       "      <td>2</td>\n",
       "    </tr>\n",
       "    <tr>\n",
       "      <th>...</th>\n",
       "      <td>...</td>\n",
       "      <td>...</td>\n",
       "      <td>...</td>\n",
       "    </tr>\n",
       "    <tr>\n",
       "      <th>245707</th>\n",
       "      <td>ZTF21abxgjzk</td>\n",
       "      <td>[Unknown, SN candidate, SN candidate, SN candi...</td>\n",
       "      <td>284</td>\n",
       "    </tr>\n",
       "    <tr>\n",
       "      <th>280556</th>\n",
       "      <td>ZTF21abzlujs</td>\n",
       "      <td>[Unknown, Unknown, Unknown, Unknown, Unknown, ...</td>\n",
       "      <td>288</td>\n",
       "    </tr>\n",
       "    <tr>\n",
       "      <th>326096</th>\n",
       "      <td>ZTF22aaomcpn</td>\n",
       "      <td>[SN candidate, Ambiguous, Ambiguous, SN candid...</td>\n",
       "      <td>332</td>\n",
       "    </tr>\n",
       "    <tr>\n",
       "      <th>156641</th>\n",
       "      <td>ZTF21aafdxca</td>\n",
       "      <td>[Unknown, Unknown, Unknown, Unknown, Unknown, ...</td>\n",
       "      <td>612</td>\n",
       "    </tr>\n",
       "    <tr>\n",
       "      <th>323514</th>\n",
       "      <td>ZTF22aamwznx</td>\n",
       "      <td>[Unknown, SN candidate, Unknown, Unknown, Unkn...</td>\n",
       "      <td>1386</td>\n",
       "    </tr>\n",
       "  </tbody>\n",
       "</table>\n",
       "<p>3772 rows × 3 columns</p>\n",
       "</div>"
      ],
      "text/plain": [
       "            objectId                                         fink_class  \\\n",
       "225340  ZTF21abvwxhn         [Solar System MPC, Solar System candidate]   \n",
       "192634  ZTF21abddsjy                  [Unknown, Solar System candidate]   \n",
       "264172  ZTF21abydnwb         [Solar System MPC, Solar System candidate]   \n",
       "193032  ZTF21abdjbjr                  [Unknown, Solar System candidate]   \n",
       "232899  ZTF21abwqmil                  [Solar System candidate, Unknown]   \n",
       "...              ...                                                ...   \n",
       "245707  ZTF21abxgjzk  [Unknown, SN candidate, SN candidate, SN candi...   \n",
       "280556  ZTF21abzlujs  [Unknown, Unknown, Unknown, Unknown, Unknown, ...   \n",
       "326096  ZTF22aaomcpn  [SN candidate, Ambiguous, Ambiguous, SN candid...   \n",
       "156641  ZTF21aafdxca  [Unknown, Unknown, Unknown, Unknown, Unknown, ...   \n",
       "323514  ZTF22aamwznx  [Unknown, SN candidate, Unknown, Unknown, Unkn...   \n",
       "\n",
       "        count_class  \n",
       "225340            2  \n",
       "192634            2  \n",
       "264172            2  \n",
       "193032            2  \n",
       "232899            2  \n",
       "...             ...  \n",
       "245707          284  \n",
       "280556          288  \n",
       "326096          332  \n",
       "156641          612  \n",
       "323514         1386  \n",
       "\n",
       "[3772 rows x 3 columns]"
      ]
     },
     "execution_count": 61,
     "metadata": {},
     "output_type": "execute_result"
    }
   ],
   "source": [
    "t[t[\"count_class\"] > 1].sort_values(\"count_class\")"
   ]
  },
  {
   "cell_type": "code",
   "execution_count": null,
   "metadata": {},
   "outputs": [],
   "source": []
  }
 ],
 "metadata": {
  "kernelspec": {
   "display_name": "fink_fat_env",
   "language": "python",
   "name": "python3"
  },
  "language_info": {
   "codemirror_mode": {
    "name": "ipython",
    "version": 3
   },
   "file_extension": ".py",
   "mimetype": "text/x-python",
   "name": "python",
   "nbconvert_exporter": "python",
   "pygments_lexer": "ipython3",
   "version": "3.7.6 (default, Jan  8 2020, 19:59:22) \n[GCC 7.3.0]"
  },
  "orig_nbformat": 4,
  "vscode": {
   "interpreter": {
    "hash": "83077748debae1bbda14384cc9574f2671190244b8461e01ad095f1a35a83b5a"
   }
  }
 },
 "nbformat": 4,
 "nbformat_minor": 2
}
