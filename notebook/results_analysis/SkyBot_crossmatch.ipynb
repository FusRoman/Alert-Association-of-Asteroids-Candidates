{
 "cells": [
  {
   "cell_type": "code",
   "execution_count": 20,
   "metadata": {},
   "outputs": [],
   "source": [
    "import utils as u\n",
    "import importlib\n",
    "importlib.reload(u)\n",
    "import io\n",
    "import requests\n",
    "import os\n",
    "import pandas as pd\n",
    "from collections import Counter\n",
    "from IPython.display import display, Markdown, Latex\n",
    "\n",
    "\n",
    "from pyspark.sql.functions import pandas_udf\n",
    "from pyspark.sql.types import *  # noqa: F403\n",
    "from pyspark.sql import functions as F  # noqa: F401\n",
    "from pyspark.sql import SparkSession  # noqa: F401\n",
    "\n",
    "\n",
    "from astroquery.imcce import Skybot\n",
    "from astropy.coordinates import SkyCoord\n",
    "from astropy.time import Time\n",
    "import astropy.units as u"
   ]
  },
  {
   "cell_type": "code",
   "execution_count": 21,
   "metadata": {},
   "outputs": [],
   "source": [
    "r_orb = requests.post(\n",
    "  'https://fink-portal.org/api/v1/ssocand',\n",
    "  json={\n",
    "    'kind': 'orbParams', # Mandatory, `orbParams` or `lightcurves`\n",
    "  }\n",
    ")\n",
    "r_tra = requests.post(\n",
    "  'https://fink-portal.org/api/v1/ssocand',\n",
    "  json={\n",
    "    'kind': 'lightcurves', # Mandatory, `orbParams` or `lightcurves`\n",
    "  }\n",
    ")\n",
    "\n",
    "# Format output in a DataFrame\n",
    "candid_reconstr_orbit = pd.read_json(io.BytesIO(r_orb.content))\n",
    "candid_reconstr_traje = pd.read_json(io.BytesIO(r_tra.content))"
   ]
  },
  {
   "cell_type": "code",
   "execution_count": 22,
   "metadata": {},
   "outputs": [],
   "source": [
    "def skybot_crossmatch(ra, dec, time):\n",
    "    coord = SkyCoord(ra, dec, unit=u.degree)\n",
    "    epoch = Time(time, format=\"jd\")\n",
    "    results = Skybot.cone_search(coord, 5*u.arcsec, epoch).to_pandas()\n",
    "    return results[[\"Name\", \"centerdist\"]]"
   ]
  },
  {
   "cell_type": "code",
   "execution_count": 23,
   "metadata": {},
   "outputs": [],
   "source": [
    "skybot_schema = StructType(\n",
    "        [\n",
    "            StructField(\"Name\", StringType(), True),\n",
    "            StructField(\"centerdist\", FloatType(), True)\n",
    "        ]\n",
    "    )"
   ]
  },
  {
   "cell_type": "code",
   "execution_count": 40,
   "metadata": {},
   "outputs": [],
   "source": [
    "@pandas_udf(skybot_schema)\n",
    "def skybot_crossmatch(ra, dec, jd):\n",
    "    \n",
    "    res_skybot = []\n",
    "    \n",
    "    for ra, dec, jd in zip(ra.values, dec.values, jd.values):\n",
    "        try:\n",
    "            coord = SkyCoord(ra, dec, unit=u.degree)\n",
    "            epoch = Time(jd, format=\"jd\")\n",
    "            results = Skybot.cone_search(coord, 5*u.arcsec, epoch).to_pandas()[[\"Name\", \"centerdist\"]]\n",
    "            res_skybot.append(results)\n",
    "        except RuntimeError:\n",
    "            res_skybot.append(pd.DataFrame({\"Name\": [\"null\"], \"centerdist\": [-1.0]}))\n",
    "            \n",
    "    return pd.concat(res_skybot)"
   ]
  },
  {
   "cell_type": "code",
   "execution_count": 48,
   "metadata": {},
   "outputs": [],
   "source": [
    "df_traj = spark.createDataFrame(candid_reconstr_traje).repartition(3000)"
   ]
  },
  {
   "cell_type": "code",
   "execution_count": 49,
   "metadata": {},
   "outputs": [],
   "source": [
    "df_traj = df_traj.withColumn(\"skybot_res\", skybot_crossmatch(df_traj[\"d:ra\"], df_traj[\"d:dec\"], df_traj[\"d:jd\"]))"
   ]
  },
  {
   "cell_type": "code",
   "execution_count": 50,
   "metadata": {},
   "outputs": [],
   "source": [
    "df_skybot_local = df_traj.toPandas()"
   ]
  },
  {
   "cell_type": "code",
   "execution_count": 58,
   "metadata": {},
   "outputs": [],
   "source": [
    "df_skybot_local[\"Ast_Name\"] = df_skybot_local[\"skybot_res\"].str[0]\n",
    "df_skybot_local[\"centerdist\"] = df_skybot_local[\"skybot_res\"].str[1]"
   ]
  },
  {
   "cell_type": "code",
   "execution_count": 60,
   "metadata": {},
   "outputs": [],
   "source": [
    "df_skybot_local.drop(\"skybot_res\", axis=1).to_parquet(\"skybot_result.parquet\")"
   ]
  },
  {
   "cell_type": "code",
   "execution_count": null,
   "metadata": {},
   "outputs": [],
   "source": []
  }
 ],
 "metadata": {
  "kernelspec": {
   "display_name": "base",
   "language": "python",
   "name": "python3"
  },
  "language_info": {
   "codemirror_mode": {
    "name": "ipython",
    "version": 3
   },
   "file_extension": ".py",
   "mimetype": "text/x-python",
   "name": "python",
   "nbconvert_exporter": "python",
   "pygments_lexer": "ipython3",
   "version": "3.9.7 (default, Sep 16 2021, 13:09:58) \n[GCC 7.5.0]"
  },
  "vscode": {
   "interpreter": {
    "hash": "571d7e2b472b2ad2fe7fa12de89057082d5c525dba7df0550d26c3e2b085b7b8"
   }
  }
 },
 "nbformat": 4,
 "nbformat_minor": 4
}
